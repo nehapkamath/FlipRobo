{
 "cells": [
  {
   "cell_type": "code",
   "execution_count": 1,
   "metadata": {},
   "outputs": [],
   "source": [
    "import requests\n",
    "import numpy as np\n",
    "from bs4 import BeautifulSoup\n",
    "import pandas as pd\n",
    "#import requests_cache\n",
    "import lxml.html as lxl\n",
    "import re"
   ]
  },
  {
   "cell_type": "code",
   "execution_count": 2,
   "metadata": {},
   "outputs": [],
   "source": [
    "MAX_PAGE = 333"
   ]
  },
  {
   "cell_type": "markdown",
   "metadata": {},
   "source": [
    "Scraping web pages to get the car URLS"
   ]
  },
  {
   "cell_type": "code",
   "execution_count": 3,
   "metadata": {},
   "outputs": [],
   "source": [
    "## Get all the urls for all the listed used vehicles on truecar.com\n",
    "def urls_scraping(base_url = 'https://www.truecar.com/used-cars-for-sale/listings/'):\n",
    "    urls = []\n",
    "    pages = []\n",
    "    for i in range(1, MAX_PAGE+1):\n",
    "        pages.append(base_url + '?page=' + str(i))\n",
    "    for page in pages:\n",
    "        try:\n",
    "            response = requests.get(page)\n",
    "            response.raise_for_status()\n",
    "        except:\n",
    "            break\n",
    "        root = lxl.fromstring(response.content)\n",
    "        url = ['https://www.truecar.com' + link for link in root.xpath('//div[@data-qa=\"Listings\"]/a/@href')]\n",
    "        urls += url\n",
    "    \n",
    "    return urls"
   ]
  },
  {
   "cell_type": "code",
   "execution_count": 4,
   "metadata": {},
   "outputs": [],
   "source": [
    "#Parse one url to get information and return a dataframe"
   ]
  },
  {
   "cell_type": "code",
   "execution_count": 5,
   "metadata": {},
   "outputs": [],
   "source": [
    "# function to scrape one single url of a single used car listing.\n",
    "def page_scraping(url):\n",
    "    try:\n",
    "        response = requests.get(url)\n",
    "        response.raise_for_status()\n",
    "    except:\n",
    "        return\n",
    "    root = lxl.fromstring(response.content)\n",
    "    \n",
    "    # extract vehicle year, make and model information\n",
    "    year = root.xpath('//div[@class=\"text-truncate heading-3 margin-right-2 margin-right-sm-3\"]/text()')[0].split(' ')[0]    \n",
    "    make = root.xpath('//div[@class=\"text-truncate heading-3 margin-right-2 margin-right-sm-3\"]/text()')[0].split(' ')[1]    \n",
    "    model = root.xpath('//div[@class=\"text-truncate heading-3 margin-right-2 margin-right-sm-3\"]/text()')[0].split(' ')[2:]    \n",
    "    # need to extract vehicle type (suv or sedan) and sub-model info\n",
    "    sub_model = root.xpath('//div[@class=\"text-truncate heading-4 text-muted\"]/text()')[0] \n",
    "\n",
    "    # city and state, geospatial information.\n",
    "    city = root.xpath('//span[@data-qa=\"used-vdp-header-location\"]/text()[1]')[0]\n",
    "    state = root.xpath('//span[@data-qa=\"used-vdp-header-location\"]/text()[3]')[0]\n",
    "    \n",
    "    # vehicle mileage\n",
    "    mileage = root.xpath('//span[@data-qa=\"used-vdp-header-miles\"]/text()[1]')[0]\n",
    "    \n",
    "    # vehicle price information\n",
    "    price = root.xpath('//html/body/div[2]/div[3]/div/div[4]/div/div[2]/div[1]/div/div/div[1]/div[3]/span/text()')\n",
    "    price = str(price)\n",
    "    \n",
    "    # vehicle characteristics\n",
    "    exterior_color = root.xpath('//div[@data-qa=\"vehicle-overview-item-Exterior Color\"]/div[2]/ul/li/text()')[0]\n",
    "    interior_color = root.xpath('//div[@data-qa=\"vehicle-overview-item-Interior Color\"]/div[2]/ul/li/text()')[0]\n",
    "    mpg_city = root.xpath('//div[@data-qa=\"vehicle-overview-item-MPG\"]/div[2]/ul/li/text()')[0].split('/')[0].split(' ')[0]\n",
    "    mpg_hwy = root.xpath('//div[@data-qa=\"vehicle-overview-item-MPG\"]/div[2]/ul/li/text()')[0].split('/')[1].split(' ')[1]\n",
    "    engine = root.xpath('//div[@data-qa=\"vehicle-overview-item-Engine\"]/div[2]/ul/li/text()')[0]\n",
    "    transmission = root.xpath('//div[@data-qa=\"vehicle-overview-item-Transmission\"]/div[2]/ul/li/text()')[0]\n",
    "    drive_type = root.xpath('//div[@data-qa=\"vehicle-overview-item-Drive Type\"]/div[2]/ul/li/text()')[0]\n",
    "    fuel_type = root.xpath('//div[@data-qa=\"vehicle-overview-item-Fuel Type\"]/div[2]/ul/li/text()')[0]\n",
    "    popular_feature = root.xpath('//div[@data-test=\"popularFeatures\"]//li[@class=\"_19zze7p\"]/p/text()')\n",
    "    \n",
    "    # vehicle history information, will extract four variables from here.\n",
    "    vehicle_history = root.xpath('//li[@class=\"_h9wfdq\"]/text()')\n",
    "    \n",
    "    # whether the car is a certified preowned car.\n",
    "    if \"used-vdp-header-cpo\" in response.text:\n",
    "        cpo = True\n",
    "    else:\n",
    "        cpo = False\n",
    "    \n",
    "    \n",
    "    return pd.Series({'year':year, 'make': make, 'model': model, 'sub_model': sub_model, 'city':city, 'state': state,\n",
    "           'mileage': mileage, 'price': price, 'exterior_color': exterior_color,\n",
    "                     'interior_color': interior_color, 'mpg_city': mpg_city, 'mpg_hwy': mpg_hwy, 'engine': engine,\n",
    "                     'transmission': transmission, 'drive_type': drive_type, 'fuel_type': fuel_type, \n",
    "                     'popular_feature': popular_feature, 'vehicle_history': vehicle_history, 'cpo': cpo})"
   ]
  },
  {
   "cell_type": "code",
   "execution_count": 6,
   "metadata": {},
   "outputs": [],
   "source": [
    "#Use multi-processing to scrape all urls and merge into one dataframe"
   ]
  },
  {
   "cell_type": "code",
   "execution_count": 7,
   "metadata": {},
   "outputs": [],
   "source": [
    "# Use multi-processing to speed up the web-scraping\n",
    "# fully make use of 8 cores of my macbook pro.\n",
    "from multiprocessing import Pool\n",
    "num_partitions = 32\n",
    "num_cores = 8\n",
    "def parallelize(urls, func):\n",
    "    url_set = np.array_split(urls, num_partitions)\n",
    "    pool = Pool(num_cores)\n",
    "    df = pd.concat(pool.map(func, url_set))\n",
    "    pool.close()\n",
    "    pool.join()\n",
    "    return df\n",
    "# main function to scrape all the urls and merge all the data into one dataframe\n",
    "def scraping(urls):\n",
    "    scraping_data = [page_scraping(url) for url in urls]\n",
    "    return pd.concat(scraping_data, axis=1).T"
   ]
  },
  {
   "cell_type": "markdown",
   "metadata": {},
   "source": [
    "Getting all urls"
   ]
  },
  {
   "cell_type": "code",
   "execution_count": 8,
   "metadata": {},
   "outputs": [
    {
     "name": "stdout",
     "output_type": "stream",
     "text": [
      "Wall time: 14.6 s\n"
     ]
    }
   ],
   "source": [
    "%%time\n",
    "urls=urls_scraping() # extract all vehicle urls from allowed 333 pages."
   ]
  },
  {
   "cell_type": "code",
   "execution_count": 9,
   "metadata": {},
   "outputs": [],
   "source": [
    "#Returning the raw dataframe"
   ]
  },
  {
   "cell_type": "code",
   "execution_count": null,
   "metadata": {},
   "outputs": [],
   "source": [
    "%%time\n",
    "data = parallelize(urls, scraping)"
   ]
  },
  {
   "cell_type": "code",
   "execution_count": null,
   "metadata": {},
   "outputs": [],
   "source": [
    "print(data.shape)\n",
    "data.head(20)"
   ]
  },
  {
   "cell_type": "code",
   "execution_count": null,
   "metadata": {},
   "outputs": [],
   "source": [
    "data.to_csv('usedCarListing.csv', encoding = 'utf-8')"
   ]
  },
  {
   "cell_type": "code",
   "execution_count": null,
   "metadata": {},
   "outputs": [],
   "source": []
  },
  {
   "cell_type": "code",
   "execution_count": null,
   "metadata": {},
   "outputs": [],
   "source": []
  },
  {
   "cell_type": "code",
   "execution_count": null,
   "metadata": {},
   "outputs": [],
   "source": []
  }
 ],
 "metadata": {
  "kernelspec": {
   "display_name": "Python 3",
   "language": "python",
   "name": "python3"
  },
  "language_info": {
   "codemirror_mode": {
    "name": "ipython",
    "version": 3
   },
   "file_extension": ".py",
   "mimetype": "text/x-python",
   "name": "python",
   "nbconvert_exporter": "python",
   "pygments_lexer": "ipython3",
   "version": "3.8.3"
  }
 },
 "nbformat": 4,
 "nbformat_minor": 4
}
