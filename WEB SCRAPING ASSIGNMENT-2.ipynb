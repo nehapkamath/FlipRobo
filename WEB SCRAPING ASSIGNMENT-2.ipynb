{
 "cells": [
  {
   "cell_type": "markdown",
   "metadata": {},
   "source": [
    "# Question 1 : \n",
    "    Write a python program to scrape data for “Data Analyst” Job position in “Bangalore” location. You have to scrape the job-title, job-location, company_name, experience_required. You have to scrape first 10 jobs data."
   ]
  },
  {
   "cell_type": "code",
   "execution_count": 71,
   "metadata": {
    "scrolled": true
   },
   "outputs": [],
   "source": [
    "#import libraries\n",
    "\n",
    "import selenium\n",
    "import pandas as pd\n",
    "from selenium import webdriver\n",
    "import time"
   ]
  },
  {
   "cell_type": "code",
   "execution_count": 4,
   "metadata": {
    "scrolled": true
   },
   "outputs": [],
   "source": [
    "#connect to webdriver\n",
    "driver = webdriver.Chrome(r\"C:\\Users\\Neha Vishnudas Pai\\Downloads\\chromedriver.exe\")"
   ]
  },
  {
   "cell_type": "code",
   "execution_count": 5,
   "metadata": {
    "scrolled": true
   },
   "outputs": [],
   "source": [
    "url = 'https://www.naukri.com/'\n",
    "driver.get(url)"
   ]
  },
  {
   "cell_type": "code",
   "execution_count": 6,
   "metadata": {
    "scrolled": true
   },
   "outputs": [
    {
     "data": {
      "text/plain": [
       "<selenium.webdriver.remote.webelement.WebElement (session=\"9c536314752d617f9ec59ae5be90ef1d\", element=\"3b0ecd69-788c-46c0-b54c-198f5c35e694\")>"
      ]
     },
     "execution_count": 6,
     "metadata": {},
     "output_type": "execute_result"
    }
   ],
   "source": [
    "#finding element for job search bar\n",
    "search_job = driver.find_element_by_id('qsb-keyword-sugg')\n",
    "search_job"
   ]
  },
  {
   "cell_type": "code",
   "execution_count": 7,
   "metadata": {
    "scrolled": true
   },
   "outputs": [],
   "source": [
    "#write on search bar\n",
    "search_job.send_keys(\"Data Analyst\")"
   ]
  },
  {
   "cell_type": "code",
   "execution_count": 8,
   "metadata": {
    "scrolled": true
   },
   "outputs": [],
   "source": [
    "#finding element for job location bar\n",
    "search_loc = driver.find_element_by_id('qsb-location-sugg')\n",
    "search_loc.send_keys(\"Bangalore\")"
   ]
  },
  {
   "cell_type": "code",
   "execution_count": 9,
   "metadata": {
    "scrolled": true
   },
   "outputs": [],
   "source": [
    "#do click using xpath function\n",
    "search_btn= driver.find_element_by_xpath(\"//button[@class='btn']\")\n",
    "search_btn.click()"
   ]
  },
  {
   "cell_type": "code",
   "execution_count": 29,
   "metadata": {
    "scrolled": true
   },
   "outputs": [],
   "source": [
    "#extract data from webpage-job titles\n",
    "titles_tags=driver.find_elements_by_xpath(\"//a[@class='title fw500 ellipsis']\")"
   ]
  },
  {
   "cell_type": "code",
   "execution_count": 22,
   "metadata": {
    "scrolled": true
   },
   "outputs": [
    {
     "data": {
      "text/plain": [
       "['Data Scientist / Data Analyst -Business Analyst',\n",
       " 'Hiring Data Analysts For E commerce Platform || WFH',\n",
       " 'Data Analyst',\n",
       " 'Hiring For Data Analyst/ MIS Reporting Analyst - Bangalore',\n",
       " 'DA - Urgent Opening For Data Analyst BFSI Domain - Pan India',\n",
       " 'Data Analyst - Informatica MDM',\n",
       " 'Assistant Vice President - MIS & Reporting ( Business Data Analyst)',\n",
       " 'Data Analyst',\n",
       " 'Data Analyst',\n",
       " 'Data Analyst']"
      ]
     },
     "execution_count": 22,
     "metadata": {},
     "output_type": "execute_result"
    }
   ],
   "source": [
    "job_titles =[]\n",
    "for i in titles_tags[:10]:\n",
    "    job_titles.append(i.text)\n",
    "job_titles"
   ]
  },
  {
   "cell_type": "code",
   "execution_count": 30,
   "metadata": {
    "scrolled": true
   },
   "outputs": [],
   "source": [
    "companies_tags = driver.find_elements_by_xpath(\"//a[@class='subTitle ellipsis fleft']\")"
   ]
  },
  {
   "cell_type": "code",
   "execution_count": 23,
   "metadata": {
    "scrolled": true
   },
   "outputs": [
    {
     "data": {
      "text/plain": [
       "['Inflexion Analytix Private Limited',\n",
       " 'Allegis Services India Pvt. Ltd.',\n",
       " 'Applied Materials',\n",
       " 'PHARMACEUTICAL RESEARCH ASSOCIATES INDIA Pvt Ltd',\n",
       " 'Tata Consultancy Services Ltd.',\n",
       " 'Shell India Markets Private Limited',\n",
       " 'INTERTRUSTVITEOS CORPORATE AND FUND SERVICES PVT. LTD.',\n",
       " 'Myntra Designs Pvt. Ltd.',\n",
       " 'Myntra Designs Pvt. Ltd.',\n",
       " 'Myntra Designs Pvt. Ltd.']"
      ]
     },
     "execution_count": 23,
     "metadata": {},
     "output_type": "execute_result"
    }
   ],
   "source": [
    "company_names=[]\n",
    "for i in companies_tags[:10]:\n",
    "    company_names.append(i.text)\n",
    "company_names"
   ]
  },
  {
   "cell_type": "code",
   "execution_count": 15,
   "metadata": {
    "scrolled": true
   },
   "outputs": [],
   "source": [
    "experience_tags = driver.find_elements_by_xpath(\"//li[@class='fleft grey-text br2 placeHolderLi experience']\")"
   ]
  },
  {
   "cell_type": "code",
   "execution_count": 24,
   "metadata": {
    "scrolled": true
   },
   "outputs": [
    {
     "data": {
      "text/plain": [
       "['0-3 Yrs',\n",
       " '0-5 Yrs',\n",
       " '7-10 Yrs',\n",
       " '2-4 Yrs',\n",
       " '4-9 Yrs',\n",
       " '6-9 Yrs',\n",
       " '12-18 Yrs',\n",
       " '3-6 Yrs',\n",
       " '3-6 Yrs',\n",
       " '4-9 Yrs']"
      ]
     },
     "execution_count": 24,
     "metadata": {},
     "output_type": "execute_result"
    }
   ],
   "source": [
    "experience_list=[]\n",
    "for i in experience_tags[:10]:\n",
    "    experience_list.append(i.text)\n",
    "experience_list"
   ]
  },
  {
   "cell_type": "code",
   "execution_count": 31,
   "metadata": {
    "scrolled": true
   },
   "outputs": [],
   "source": [
    "location_tags = driver.find_elements_by_xpath(\"//li[@class='fleft grey-text br2 placeHolderLi location']//span\")"
   ]
  },
  {
   "cell_type": "code",
   "execution_count": 25,
   "metadata": {
    "scrolled": true
   },
   "outputs": [
    {
     "data": {
      "text/plain": [
       "['Mumbai, Hyderabad/Secunderabad, Pune, Gurgaon/Gurugram, Chennai, Bangalore/Bengaluru',\n",
       " 'Bangalore/Bengaluru',\n",
       " 'Bangalore/Bengaluru',\n",
       " 'Bangalore/Bengaluru',\n",
       " 'Kolkata, Hyderabad/Secunderabad, Pune, Ahmedabad, Chennai, Bangalore/Bengaluru, Delhi / NCR, Mumbai (All Areas)',\n",
       " 'Bangalore/Bengaluru',\n",
       " 'Mumbai, Bangalore/Bengaluru',\n",
       " 'Bangalore/Bengaluru',\n",
       " 'Bangalore/Bengaluru',\n",
       " 'Bangalore/Bengaluru']"
      ]
     },
     "execution_count": 25,
     "metadata": {},
     "output_type": "execute_result"
    }
   ],
   "source": [
    "location_list=[]\n",
    "for i in location_tags[:10]:\n",
    "    location_list.append(i.text)\n",
    "location_list"
   ]
  },
  {
   "cell_type": "code",
   "execution_count": 26,
   "metadata": {
    "scrolled": true
   },
   "outputs": [
    {
     "name": "stdout",
     "output_type": "stream",
     "text": [
      "10 10 10 10\n"
     ]
    }
   ],
   "source": [
    "print(len(job_titles), len(company_names), len(experience_list), len(location_list))"
   ]
  },
  {
   "cell_type": "code",
   "execution_count": 27,
   "metadata": {
    "scrolled": true
   },
   "outputs": [],
   "source": [
    "import pandas as pd\n",
    "\n",
    "jobs=pd.DataFrame({})\n",
    "jobs['title']=job_titles\n",
    "jobs['company']=company_names\n",
    "jobs['location']=location_list\n",
    "jobs['experience']=experience_list"
   ]
  },
  {
   "cell_type": "code",
   "execution_count": 28,
   "metadata": {
    "scrolled": true
   },
   "outputs": [
    {
     "data": {
      "text/html": [
       "<div>\n",
       "<style scoped>\n",
       "    .dataframe tbody tr th:only-of-type {\n",
       "        vertical-align: middle;\n",
       "    }\n",
       "\n",
       "    .dataframe tbody tr th {\n",
       "        vertical-align: top;\n",
       "    }\n",
       "\n",
       "    .dataframe thead th {\n",
       "        text-align: right;\n",
       "    }\n",
       "</style>\n",
       "<table border=\"1\" class=\"dataframe\">\n",
       "  <thead>\n",
       "    <tr style=\"text-align: right;\">\n",
       "      <th></th>\n",
       "      <th>title</th>\n",
       "      <th>company</th>\n",
       "      <th>location</th>\n",
       "      <th>experience</th>\n",
       "    </tr>\n",
       "  </thead>\n",
       "  <tbody>\n",
       "    <tr>\n",
       "      <th>0</th>\n",
       "      <td>Data Scientist / Data Analyst -Business Analyst</td>\n",
       "      <td>Inflexion Analytix Private Limited</td>\n",
       "      <td>Mumbai, Hyderabad/Secunderabad, Pune, Gurgaon/...</td>\n",
       "      <td>0-3 Yrs</td>\n",
       "    </tr>\n",
       "    <tr>\n",
       "      <th>1</th>\n",
       "      <td>Hiring Data Analysts For E commerce Platform |...</td>\n",
       "      <td>Allegis Services India Pvt. Ltd.</td>\n",
       "      <td>Bangalore/Bengaluru</td>\n",
       "      <td>0-5 Yrs</td>\n",
       "    </tr>\n",
       "    <tr>\n",
       "      <th>2</th>\n",
       "      <td>Data Analyst</td>\n",
       "      <td>Applied Materials</td>\n",
       "      <td>Bangalore/Bengaluru</td>\n",
       "      <td>7-10 Yrs</td>\n",
       "    </tr>\n",
       "    <tr>\n",
       "      <th>3</th>\n",
       "      <td>Hiring For Data Analyst/ MIS Reporting Analyst...</td>\n",
       "      <td>PHARMACEUTICAL RESEARCH ASSOCIATES INDIA Pvt Ltd</td>\n",
       "      <td>Bangalore/Bengaluru</td>\n",
       "      <td>2-4 Yrs</td>\n",
       "    </tr>\n",
       "    <tr>\n",
       "      <th>4</th>\n",
       "      <td>DA - Urgent Opening For Data Analyst BFSI Doma...</td>\n",
       "      <td>Tata Consultancy Services Ltd.</td>\n",
       "      <td>Kolkata, Hyderabad/Secunderabad, Pune, Ahmedab...</td>\n",
       "      <td>4-9 Yrs</td>\n",
       "    </tr>\n",
       "    <tr>\n",
       "      <th>5</th>\n",
       "      <td>Data Analyst - Informatica MDM</td>\n",
       "      <td>Shell India Markets Private Limited</td>\n",
       "      <td>Bangalore/Bengaluru</td>\n",
       "      <td>6-9 Yrs</td>\n",
       "    </tr>\n",
       "    <tr>\n",
       "      <th>6</th>\n",
       "      <td>Assistant Vice President - MIS &amp; Reporting ( B...</td>\n",
       "      <td>INTERTRUSTVITEOS CORPORATE AND FUND SERVICES P...</td>\n",
       "      <td>Mumbai, Bangalore/Bengaluru</td>\n",
       "      <td>12-18 Yrs</td>\n",
       "    </tr>\n",
       "    <tr>\n",
       "      <th>7</th>\n",
       "      <td>Data Analyst</td>\n",
       "      <td>Myntra Designs Pvt. Ltd.</td>\n",
       "      <td>Bangalore/Bengaluru</td>\n",
       "      <td>3-6 Yrs</td>\n",
       "    </tr>\n",
       "    <tr>\n",
       "      <th>8</th>\n",
       "      <td>Data Analyst</td>\n",
       "      <td>Myntra Designs Pvt. Ltd.</td>\n",
       "      <td>Bangalore/Bengaluru</td>\n",
       "      <td>3-6 Yrs</td>\n",
       "    </tr>\n",
       "    <tr>\n",
       "      <th>9</th>\n",
       "      <td>Data Analyst</td>\n",
       "      <td>Myntra Designs Pvt. Ltd.</td>\n",
       "      <td>Bangalore/Bengaluru</td>\n",
       "      <td>4-9 Yrs</td>\n",
       "    </tr>\n",
       "  </tbody>\n",
       "</table>\n",
       "</div>"
      ],
      "text/plain": [
       "                                               title  \\\n",
       "0    Data Scientist / Data Analyst -Business Analyst   \n",
       "1  Hiring Data Analysts For E commerce Platform |...   \n",
       "2                                       Data Analyst   \n",
       "3  Hiring For Data Analyst/ MIS Reporting Analyst...   \n",
       "4  DA - Urgent Opening For Data Analyst BFSI Doma...   \n",
       "5                     Data Analyst - Informatica MDM   \n",
       "6  Assistant Vice President - MIS & Reporting ( B...   \n",
       "7                                       Data Analyst   \n",
       "8                                       Data Analyst   \n",
       "9                                       Data Analyst   \n",
       "\n",
       "                                             company  \\\n",
       "0                 Inflexion Analytix Private Limited   \n",
       "1                   Allegis Services India Pvt. Ltd.   \n",
       "2                                  Applied Materials   \n",
       "3   PHARMACEUTICAL RESEARCH ASSOCIATES INDIA Pvt Ltd   \n",
       "4                     Tata Consultancy Services Ltd.   \n",
       "5                Shell India Markets Private Limited   \n",
       "6  INTERTRUSTVITEOS CORPORATE AND FUND SERVICES P...   \n",
       "7                           Myntra Designs Pvt. Ltd.   \n",
       "8                           Myntra Designs Pvt. Ltd.   \n",
       "9                           Myntra Designs Pvt. Ltd.   \n",
       "\n",
       "                                            location experience  \n",
       "0  Mumbai, Hyderabad/Secunderabad, Pune, Gurgaon/...    0-3 Yrs  \n",
       "1                                Bangalore/Bengaluru    0-5 Yrs  \n",
       "2                                Bangalore/Bengaluru   7-10 Yrs  \n",
       "3                                Bangalore/Bengaluru    2-4 Yrs  \n",
       "4  Kolkata, Hyderabad/Secunderabad, Pune, Ahmedab...    4-9 Yrs  \n",
       "5                                Bangalore/Bengaluru    6-9 Yrs  \n",
       "6                        Mumbai, Bangalore/Bengaluru  12-18 Yrs  \n",
       "7                                Bangalore/Bengaluru    3-6 Yrs  \n",
       "8                                Bangalore/Bengaluru    3-6 Yrs  \n",
       "9                                Bangalore/Bengaluru    4-9 Yrs  "
      ]
     },
     "execution_count": 28,
     "metadata": {},
     "output_type": "execute_result"
    }
   ],
   "source": [
    "jobs"
   ]
  },
  {
   "cell_type": "code",
   "execution_count": null,
   "metadata": {
    "scrolled": true
   },
   "outputs": [],
   "source": []
  },
  {
   "cell_type": "markdown",
   "metadata": {},
   "source": [
    "# Question 2 :\n",
    "    Write a python program to scrape data for “Data Scientist” Job position in “Bangalore” location. You have to scrape the job-title, job-location, company_name, full job-description. You have to scrape first 10 jobs data."
   ]
  },
  {
   "cell_type": "code",
   "execution_count": 2,
   "metadata": {
    "scrolled": true
   },
   "outputs": [],
   "source": [
    "#connect to webdriver\n",
    "driver = webdriver.Chrome(r\"C:\\Users\\Neha Vishnudas Pai\\Downloads\\chromedriver.exe\")"
   ]
  },
  {
   "cell_type": "code",
   "execution_count": 3,
   "metadata": {
    "scrolled": true
   },
   "outputs": [],
   "source": [
    "url = 'https://www.naukri.com/'\n",
    "driver.get(url)"
   ]
  },
  {
   "cell_type": "code",
   "execution_count": 4,
   "metadata": {
    "scrolled": true
   },
   "outputs": [
    {
     "data": {
      "text/plain": [
       "<selenium.webdriver.remote.webelement.WebElement (session=\"cf24456db3d115e43d1b63bbeef37261\", element=\"c434380b-a3bc-4644-9956-05ce23ec4a0e\")>"
      ]
     },
     "execution_count": 4,
     "metadata": {},
     "output_type": "execute_result"
    }
   ],
   "source": [
    "#finding element for job search bar\n",
    "search_job = driver.find_element_by_id('qsb-keyword-sugg')\n",
    "search_job"
   ]
  },
  {
   "cell_type": "code",
   "execution_count": 5,
   "metadata": {
    "scrolled": true
   },
   "outputs": [],
   "source": [
    "#write on search bar\n",
    "search_job.send_keys(\"Data Scientist\")"
   ]
  },
  {
   "cell_type": "code",
   "execution_count": 6,
   "metadata": {
    "scrolled": true
   },
   "outputs": [],
   "source": [
    "#finding element for job location bar\n",
    "search_loc = driver.find_element_by_id('qsb-location-sugg')\n",
    "search_loc.send_keys(\"Bangalore\")"
   ]
  },
  {
   "cell_type": "code",
   "execution_count": 7,
   "metadata": {
    "scrolled": true
   },
   "outputs": [],
   "source": [
    "#do click using xpath function\n",
    "search_btn= driver.find_element_by_xpath(\"//button[@class='btn']\")\n",
    "search_btn.click()"
   ]
  },
  {
   "cell_type": "code",
   "execution_count": 8,
   "metadata": {
    "scrolled": true
   },
   "outputs": [],
   "source": [
    "#extract data from webpage-job titles\n",
    "titles_tags=driver.find_elements_by_xpath(\"//a[@class='title fw500 ellipsis']\")"
   ]
  },
  {
   "cell_type": "code",
   "execution_count": 9,
   "metadata": {
    "scrolled": true
   },
   "outputs": [
    {
     "data": {
      "text/plain": [
       "[]"
      ]
     },
     "execution_count": 9,
     "metadata": {},
     "output_type": "execute_result"
    }
   ],
   "source": [
    "job_titles =[]\n",
    "for i in titles_tags[:10]:\n",
    "    job_titles.append(i.text)\n",
    "job_titles"
   ]
  },
  {
   "cell_type": "code",
   "execution_count": 10,
   "metadata": {
    "scrolled": true
   },
   "outputs": [],
   "source": [
    "location_tags = driver.find_elements_by_xpath(\"//li[@class='fleft grey-text br2 placeHolderLi location']//span\")"
   ]
  },
  {
   "cell_type": "code",
   "execution_count": 11,
   "metadata": {
    "scrolled": true
   },
   "outputs": [
    {
     "data": {
      "text/plain": [
       "[]"
      ]
     },
     "execution_count": 11,
     "metadata": {},
     "output_type": "execute_result"
    }
   ],
   "source": [
    "location_list=[]\n",
    "for i in location_tags[:10]:\n",
    "    location_list.append(i.text)\n",
    "location_list"
   ]
  },
  {
   "cell_type": "code",
   "execution_count": 12,
   "metadata": {
    "scrolled": true
   },
   "outputs": [],
   "source": [
    "companies_tags = driver.find_elements_by_xpath(\"//a[@class='subTitle ellipsis fleft']\")"
   ]
  },
  {
   "cell_type": "code",
   "execution_count": 13,
   "metadata": {
    "scrolled": true
   },
   "outputs": [
    {
     "data": {
      "text/plain": [
       "[]"
      ]
     },
     "execution_count": 13,
     "metadata": {},
     "output_type": "execute_result"
    }
   ],
   "source": [
    "company_names=[]\n",
    "for i in companies_tags[:10]:\n",
    "    company_names.append(i.text)\n",
    "company_names"
   ]
  },
  {
   "cell_type": "code",
   "execution_count": null,
   "metadata": {
    "scrolled": true
   },
   "outputs": [],
   "source": [
    "job_url = driver.find_elements_by_xpath(\"//a[@class='title fw500 ellipsis']\")\n"
   ]
  },
  {
   "cell_type": "code",
   "execution_count": null,
   "metadata": {
    "scrolled": true
   },
   "outputs": [],
   "source": [
    "Job_Desc=[]\n",
    "for i in job_url[:10]:\n",
    "    \n",
    "    job_url.click()\n",
    "    Job_Links= driver.find_elements_by_xpath(\"//section[@class='job-desc']\")\n",
    "    company_names.append(i.text)\n",
    "    \n",
    "Job_Links\n"
   ]
  },
  {
   "cell_type": "code",
   "execution_count": null,
   "metadata": {
    "scrolled": true
   },
   "outputs": [],
   "source": []
  },
  {
   "cell_type": "code",
   "execution_count": null,
   "metadata": {
    "scrolled": true
   },
   "outputs": [],
   "source": []
  },
  {
   "cell_type": "code",
   "execution_count": null,
   "metadata": {
    "scrolled": true
   },
   "outputs": [],
   "source": []
  },
  {
   "cell_type": "code",
   "execution_count": null,
   "metadata": {
    "scrolled": true
   },
   "outputs": [],
   "source": []
  },
  {
   "cell_type": "code",
   "execution_count": null,
   "metadata": {
    "scrolled": true
   },
   "outputs": [],
   "source": []
  },
  {
   "cell_type": "code",
   "execution_count": null,
   "metadata": {
    "scrolled": true
   },
   "outputs": [],
   "source": []
  },
  {
   "cell_type": "markdown",
   "metadata": {},
   "source": [
    "# Question 3 :\n",
    "    In this question you have to scrape data using the filters available on the webpage as shown below: You have to use the location and salary filter.You have to scrape data for “Data Scientist” designation for first 10 job results.You have to scrape the job-title, job-location, company_name, experience_required.The location filter to be used is “Delhi/NCR”.The salary filter to be used is “3-6” lakhs"
   ]
  },
  {
   "cell_type": "code",
   "execution_count": 15,
   "metadata": {
    "scrolled": true
   },
   "outputs": [],
   "source": [
    "#connect to webdriver\n",
    "driver = webdriver.Chrome(r\"C:\\Users\\Neha Vishnudas Pai\\Downloads\\chromedriver.exe\")"
   ]
  },
  {
   "cell_type": "code",
   "execution_count": 16,
   "metadata": {
    "scrolled": true
   },
   "outputs": [],
   "source": [
    "url = 'https://www.naukri.com/'\n",
    "driver.get(url)\n",
    "time.sleep(3)"
   ]
  },
  {
   "cell_type": "code",
   "execution_count": 17,
   "metadata": {
    "scrolled": true
   },
   "outputs": [
    {
     "data": {
      "text/plain": [
       "<selenium.webdriver.remote.webelement.WebElement (session=\"99db2f93ba8baba3ecf8630e5555e58c\", element=\"096d8aa1-df18-41ee-82dd-a2719948fd04\")>"
      ]
     },
     "execution_count": 17,
     "metadata": {},
     "output_type": "execute_result"
    }
   ],
   "source": [
    "#finding element for job search bar\n",
    "search_job = driver.find_element_by_id('qsb-keyword-sugg')\n",
    "search_job"
   ]
  },
  {
   "cell_type": "code",
   "execution_count": 18,
   "metadata": {
    "scrolled": true
   },
   "outputs": [],
   "source": [
    "#write on search bar\n",
    "search_job.send_keys(\"Data Scientist\")"
   ]
  },
  {
   "cell_type": "code",
   "execution_count": 19,
   "metadata": {
    "scrolled": true
   },
   "outputs": [],
   "source": [
    "#do click using xpath function\n",
    "search_btn= driver.find_element_by_xpath(\"//button[@class='btn']\")\n",
    "search_btn.click()"
   ]
  },
  {
   "cell_type": "code",
   "execution_count": 32,
   "metadata": {
    "scrolled": true
   },
   "outputs": [],
   "source": [
    "location= driver.find_elements_by_xpath(\"//p[@class='grey-text lH20 fleft ml-8 txtLbl']\")[1]\n",
    "location.click()"
   ]
  },
  {
   "cell_type": "code",
   "execution_count": 33,
   "metadata": {
    "scrolled": true
   },
   "outputs": [],
   "source": [
    "salary= driver.find_elements_by_xpath(\"//p[@class='grey-text lH20 fleft ml-8 txtLbl']\")[5]\n",
    "salary.click()"
   ]
  },
  {
   "cell_type": "code",
   "execution_count": 34,
   "metadata": {
    "scrolled": true
   },
   "outputs": [],
   "source": [
    "#extract data from webpage-job titles\n",
    "titles_tags=driver.find_elements_by_xpath(\"//a[@class='title fw500 ellipsis']\")"
   ]
  },
  {
   "cell_type": "code",
   "execution_count": 35,
   "metadata": {
    "scrolled": true
   },
   "outputs": [
    {
     "data": {
      "text/plain": [
       "['Data Scientist / Data Analyst -Business Analyst',\n",
       " 'Data Scientist - High growth VC backed Influencer Marketplace',\n",
       " 'Business Analyst- Data Scientist',\n",
       " 'Excellent opportunity For Data Scientist',\n",
       " 'Data Scientist',\n",
       " 'DATA Scientist – Gurgaon (Exp 3-6 years)',\n",
       " 'DATA Scientist – Gurgaon (Exp 3-6 years)',\n",
       " 'Data Scientist - Noida',\n",
       " 'Data Scientist',\n",
       " \"Data Scientist - Noida/ B'lore\"]"
      ]
     },
     "execution_count": 35,
     "metadata": {},
     "output_type": "execute_result"
    }
   ],
   "source": [
    "job_titles =[]\n",
    "for i in titles_tags[:10]:\n",
    "    job_titles.append(i.text)\n",
    "job_titles"
   ]
  },
  {
   "cell_type": "code",
   "execution_count": 36,
   "metadata": {
    "scrolled": true
   },
   "outputs": [],
   "source": [
    "location_tags = driver.find_elements_by_xpath(\"//li[@class='fleft grey-text br2 placeHolderLi location']//span\")"
   ]
  },
  {
   "cell_type": "code",
   "execution_count": 37,
   "metadata": {
    "scrolled": true
   },
   "outputs": [
    {
     "data": {
      "text/plain": [
       "['Mumbai, Hyderabad/Secunderabad, Pune, Gurgaon/Gurugram, Chennai, Bangalore/Bengaluru',\n",
       " 'Bangalore/Bengaluru, Delhi / NCR, Mumbai (All Areas)',\n",
       " 'Noida, Gurgaon/Gurugram',\n",
       " 'Noida, Bangalore/Bengaluru',\n",
       " 'New Delhi, Gurgaon/Gurugram, Delhi / NCR',\n",
       " 'Gurgaon/Gurugram, Delhi / NCR',\n",
       " 'Gurgaon/Gurugram, Delhi / NCR',\n",
       " 'Noida',\n",
       " 'Bangalore/Bengaluru, Delhi / NCR, Mumbai (All Areas)',\n",
       " 'Noida, Bangalore/Bengaluru']"
      ]
     },
     "execution_count": 37,
     "metadata": {},
     "output_type": "execute_result"
    }
   ],
   "source": [
    "location_list=[]\n",
    "for i in location_tags[:10]:\n",
    "    location_list.append(i.text)\n",
    "location_list"
   ]
  },
  {
   "cell_type": "code",
   "execution_count": 38,
   "metadata": {
    "scrolled": true
   },
   "outputs": [],
   "source": [
    "companies_tags = driver.find_elements_by_xpath(\"//a[@class='subTitle ellipsis fleft']\")"
   ]
  },
  {
   "cell_type": "code",
   "execution_count": 39,
   "metadata": {
    "scrolled": true
   },
   "outputs": [
    {
     "data": {
      "text/plain": [
       "['Inflexion Analytix Private Limited',\n",
       " 'Ravgins International Pvt. Ltd.',\n",
       " 'Wipro',\n",
       " 'NEC CORPORATION INDIA PRIVATE LIMITED',\n",
       " 'Mobikwik',\n",
       " 'CRESCENDO GLOBAL LEADERSHIP HIRING INDIA PRIVATE L IMITED',\n",
       " 'CRESCENDO GLOBAL LEADERSHIP HIRING INDIA PRIVATE L IMITED',\n",
       " 'Optum Global Solutions (India) Private Limited',\n",
       " 'Cloudstrats Technologies Private Limited',\n",
       " 'NEC CORPORATION INDIA PRIVATE LIMITED']"
      ]
     },
     "execution_count": 39,
     "metadata": {},
     "output_type": "execute_result"
    }
   ],
   "source": [
    "company_names=[]\n",
    "for i in companies_tags[:10]:\n",
    "    company_names.append(i.text)\n",
    "company_names"
   ]
  },
  {
   "cell_type": "code",
   "execution_count": 40,
   "metadata": {
    "scrolled": true
   },
   "outputs": [],
   "source": [
    "experience_tags = driver.find_elements_by_xpath(\"//li[@class='fleft grey-text br2 placeHolderLi experience']\")"
   ]
  },
  {
   "cell_type": "code",
   "execution_count": 41,
   "metadata": {
    "scrolled": true
   },
   "outputs": [
    {
     "data": {
      "text/plain": [
       "['0-3 Yrs',\n",
       " '3-5 Yrs',\n",
       " '2-5 Yrs',\n",
       " '3-7 Yrs',\n",
       " '3-5 Yrs',\n",
       " '3-6 Yrs',\n",
       " '3-6 Yrs',\n",
       " '3-5 Yrs',\n",
       " '5-8 Yrs',\n",
       " '3-8 Yrs']"
      ]
     },
     "execution_count": 41,
     "metadata": {},
     "output_type": "execute_result"
    }
   ],
   "source": [
    "experience_list=[]\n",
    "for i in experience_tags[:10]:\n",
    "    experience_list.append(i.text)\n",
    "experience_list"
   ]
  },
  {
   "cell_type": "code",
   "execution_count": 42,
   "metadata": {
    "scrolled": true
   },
   "outputs": [
    {
     "name": "stdout",
     "output_type": "stream",
     "text": [
      "10 10 10 10\n"
     ]
    }
   ],
   "source": [
    "print(len(job_titles), len(company_names), len(experience_list), len(location_list))"
   ]
  },
  {
   "cell_type": "code",
   "execution_count": 43,
   "metadata": {
    "scrolled": true
   },
   "outputs": [],
   "source": [
    "import pandas as pd\n",
    "\n",
    "jobs=pd.DataFrame({})\n",
    "jobs['title']=job_titles\n",
    "jobs['company']=company_names\n",
    "jobs['location']=location_list\n",
    "jobs['experience']=experience_list"
   ]
  },
  {
   "cell_type": "code",
   "execution_count": 44,
   "metadata": {
    "scrolled": true
   },
   "outputs": [
    {
     "data": {
      "text/html": [
       "<div>\n",
       "<style scoped>\n",
       "    .dataframe tbody tr th:only-of-type {\n",
       "        vertical-align: middle;\n",
       "    }\n",
       "\n",
       "    .dataframe tbody tr th {\n",
       "        vertical-align: top;\n",
       "    }\n",
       "\n",
       "    .dataframe thead th {\n",
       "        text-align: right;\n",
       "    }\n",
       "</style>\n",
       "<table border=\"1\" class=\"dataframe\">\n",
       "  <thead>\n",
       "    <tr style=\"text-align: right;\">\n",
       "      <th></th>\n",
       "      <th>title</th>\n",
       "      <th>company</th>\n",
       "      <th>location</th>\n",
       "      <th>experience</th>\n",
       "    </tr>\n",
       "  </thead>\n",
       "  <tbody>\n",
       "    <tr>\n",
       "      <th>0</th>\n",
       "      <td>Data Scientist / Data Analyst -Business Analyst</td>\n",
       "      <td>Inflexion Analytix Private Limited</td>\n",
       "      <td>Mumbai, Hyderabad/Secunderabad, Pune, Gurgaon/...</td>\n",
       "      <td>0-3 Yrs</td>\n",
       "    </tr>\n",
       "    <tr>\n",
       "      <th>1</th>\n",
       "      <td>Data Scientist - High growth VC backed Influen...</td>\n",
       "      <td>Ravgins International Pvt. Ltd.</td>\n",
       "      <td>Bangalore/Bengaluru, Delhi / NCR, Mumbai (All ...</td>\n",
       "      <td>3-5 Yrs</td>\n",
       "    </tr>\n",
       "    <tr>\n",
       "      <th>2</th>\n",
       "      <td>Business Analyst- Data Scientist</td>\n",
       "      <td>Wipro</td>\n",
       "      <td>Noida, Gurgaon/Gurugram</td>\n",
       "      <td>2-5 Yrs</td>\n",
       "    </tr>\n",
       "    <tr>\n",
       "      <th>3</th>\n",
       "      <td>Excellent opportunity For Data Scientist</td>\n",
       "      <td>NEC CORPORATION INDIA PRIVATE LIMITED</td>\n",
       "      <td>Noida, Bangalore/Bengaluru</td>\n",
       "      <td>3-7 Yrs</td>\n",
       "    </tr>\n",
       "    <tr>\n",
       "      <th>4</th>\n",
       "      <td>Data Scientist</td>\n",
       "      <td>Mobikwik</td>\n",
       "      <td>New Delhi, Gurgaon/Gurugram, Delhi / NCR</td>\n",
       "      <td>3-5 Yrs</td>\n",
       "    </tr>\n",
       "    <tr>\n",
       "      <th>5</th>\n",
       "      <td>DATA Scientist – Gurgaon (Exp 3-6 years)</td>\n",
       "      <td>CRESCENDO GLOBAL LEADERSHIP HIRING INDIA PRIVA...</td>\n",
       "      <td>Gurgaon/Gurugram, Delhi / NCR</td>\n",
       "      <td>3-6 Yrs</td>\n",
       "    </tr>\n",
       "    <tr>\n",
       "      <th>6</th>\n",
       "      <td>DATA Scientist – Gurgaon (Exp 3-6 years)</td>\n",
       "      <td>CRESCENDO GLOBAL LEADERSHIP HIRING INDIA PRIVA...</td>\n",
       "      <td>Gurgaon/Gurugram, Delhi / NCR</td>\n",
       "      <td>3-6 Yrs</td>\n",
       "    </tr>\n",
       "    <tr>\n",
       "      <th>7</th>\n",
       "      <td>Data Scientist - Noida</td>\n",
       "      <td>Optum Global Solutions (India) Private Limited</td>\n",
       "      <td>Noida</td>\n",
       "      <td>3-5 Yrs</td>\n",
       "    </tr>\n",
       "    <tr>\n",
       "      <th>8</th>\n",
       "      <td>Data Scientist</td>\n",
       "      <td>Cloudstrats Technologies Private Limited</td>\n",
       "      <td>Bangalore/Bengaluru, Delhi / NCR, Mumbai (All ...</td>\n",
       "      <td>5-8 Yrs</td>\n",
       "    </tr>\n",
       "    <tr>\n",
       "      <th>9</th>\n",
       "      <td>Data Scientist - Noida/ B'lore</td>\n",
       "      <td>NEC CORPORATION INDIA PRIVATE LIMITED</td>\n",
       "      <td>Noida, Bangalore/Bengaluru</td>\n",
       "      <td>3-8 Yrs</td>\n",
       "    </tr>\n",
       "  </tbody>\n",
       "</table>\n",
       "</div>"
      ],
      "text/plain": [
       "                                               title  \\\n",
       "0    Data Scientist / Data Analyst -Business Analyst   \n",
       "1  Data Scientist - High growth VC backed Influen...   \n",
       "2                   Business Analyst- Data Scientist   \n",
       "3           Excellent opportunity For Data Scientist   \n",
       "4                                     Data Scientist   \n",
       "5           DATA Scientist – Gurgaon (Exp 3-6 years)   \n",
       "6           DATA Scientist – Gurgaon (Exp 3-6 years)   \n",
       "7                             Data Scientist - Noida   \n",
       "8                                     Data Scientist   \n",
       "9                     Data Scientist - Noida/ B'lore   \n",
       "\n",
       "                                             company  \\\n",
       "0                 Inflexion Analytix Private Limited   \n",
       "1                    Ravgins International Pvt. Ltd.   \n",
       "2                                              Wipro   \n",
       "3              NEC CORPORATION INDIA PRIVATE LIMITED   \n",
       "4                                           Mobikwik   \n",
       "5  CRESCENDO GLOBAL LEADERSHIP HIRING INDIA PRIVA...   \n",
       "6  CRESCENDO GLOBAL LEADERSHIP HIRING INDIA PRIVA...   \n",
       "7     Optum Global Solutions (India) Private Limited   \n",
       "8           Cloudstrats Technologies Private Limited   \n",
       "9              NEC CORPORATION INDIA PRIVATE LIMITED   \n",
       "\n",
       "                                            location experience  \n",
       "0  Mumbai, Hyderabad/Secunderabad, Pune, Gurgaon/...    0-3 Yrs  \n",
       "1  Bangalore/Bengaluru, Delhi / NCR, Mumbai (All ...    3-5 Yrs  \n",
       "2                            Noida, Gurgaon/Gurugram    2-5 Yrs  \n",
       "3                         Noida, Bangalore/Bengaluru    3-7 Yrs  \n",
       "4           New Delhi, Gurgaon/Gurugram, Delhi / NCR    3-5 Yrs  \n",
       "5                      Gurgaon/Gurugram, Delhi / NCR    3-6 Yrs  \n",
       "6                      Gurgaon/Gurugram, Delhi / NCR    3-6 Yrs  \n",
       "7                                              Noida    3-5 Yrs  \n",
       "8  Bangalore/Bengaluru, Delhi / NCR, Mumbai (All ...    5-8 Yrs  \n",
       "9                         Noida, Bangalore/Bengaluru    3-8 Yrs  "
      ]
     },
     "execution_count": 44,
     "metadata": {},
     "output_type": "execute_result"
    }
   ],
   "source": [
    "jobs"
   ]
  },
  {
   "cell_type": "code",
   "execution_count": null,
   "metadata": {
    "scrolled": true
   },
   "outputs": [],
   "source": []
  },
  {
   "cell_type": "markdown",
   "metadata": {},
   "source": [
    "# Question 4 :\n",
    "    Write a python program to scrape data for first 10 job results for Data scientist Designation in Noida location. You have to scrape company_name, No. of days ago when job was posted, Rating of the company."
   ]
  },
  {
   "cell_type": "code",
   "execution_count": 281,
   "metadata": {
    "scrolled": true
   },
   "outputs": [],
   "source": [
    "#connect to webdriver\n",
    "driver = webdriver.Chrome(r\"C:\\Users\\Neha Vishnudas Pai\\Downloads\\chromedriver.exe\")"
   ]
  },
  {
   "cell_type": "code",
   "execution_count": 282,
   "metadata": {
    "scrolled": true
   },
   "outputs": [],
   "source": [
    "url = 'https://www.glassdoor.co.in/Job/index.htm'\n",
    "driver.get(url)"
   ]
  },
  {
   "cell_type": "code",
   "execution_count": 283,
   "metadata": {
    "scrolled": true
   },
   "outputs": [
    {
     "data": {
      "text/plain": [
       "<selenium.webdriver.remote.webelement.WebElement (session=\"a9e1b3b986ed35541aca25a944780613\", element=\"1f9f5df5-32ad-4bb2-a2f2-d45fbb82c63e\")>"
      ]
     },
     "execution_count": 283,
     "metadata": {},
     "output_type": "execute_result"
    }
   ],
   "source": [
    "search_job = driver.find_element_by_xpath(\"//input[@class='keyword']\")\n",
    "search_job"
   ]
  },
  {
   "cell_type": "code",
   "execution_count": 284,
   "metadata": {
    "scrolled": true
   },
   "outputs": [],
   "source": [
    "#write on search bar\n",
    "search_job.send_keys(\"Data Scientist\")"
   ]
  },
  {
   "cell_type": "code",
   "execution_count": 285,
   "metadata": {
    "scrolled": true
   },
   "outputs": [],
   "source": [
    "location = driver.find_element_by_xpath(\"//input[@class='loc']\")\n",
    "location.clear()\n",
    "location.send_keys(\"Noida\")"
   ]
  },
  {
   "cell_type": "code",
   "execution_count": 286,
   "metadata": {
    "scrolled": true
   },
   "outputs": [],
   "source": [
    "#do click using xpath function\n",
    "search_btn= driver.find_element_by_xpath(\"//button[@class='gd-btn-mkt']\")\n",
    "search_btn.click()"
   ]
  },
  {
   "cell_type": "code",
   "execution_count": 287,
   "metadata": {
    "scrolled": true
   },
   "outputs": [],
   "source": [
    "\n",
    "#company name\n",
    "name=driver.find_elements_by_xpath(\"//a[@class=' css-l2wjgv e1n63ojh0 jobLink']//span\")"
   ]
  },
  {
   "cell_type": "code",
   "execution_count": 288,
   "metadata": {
    "scrolled": true
   },
   "outputs": [
    {
     "data": {
      "text/plain": [
       "['UnitedHealth Group',\n",
       " 'Ericsson',\n",
       " 'Mansha Solutions',\n",
       " 'Priority Vendor',\n",
       " 'Lantern Digital Services',\n",
       " 'Gauge Data Solutions',\n",
       " 'Techlive',\n",
       " 'Sparkbpl',\n",
       " 'WishFin',\n",
       " 'Skyjobs hr services']"
      ]
     },
     "execution_count": 288,
     "metadata": {},
     "output_type": "execute_result"
    }
   ],
   "source": [
    "company =[]\n",
    "for i in name[:10]:\n",
    "    company.append(i.text)\n",
    "company"
   ]
  },
  {
   "cell_type": "code",
   "execution_count": 289,
   "metadata": {
    "scrolled": true
   },
   "outputs": [],
   "source": [
    "#no of days\n",
    "no=driver.find_elements_by_xpath(\"//div[@class='d-flex align-items-end pl-std css-mi55ob']\")"
   ]
  },
  {
   "cell_type": "code",
   "execution_count": 290,
   "metadata": {
    "scrolled": true
   },
   "outputs": [
    {
     "data": {
      "text/plain": [
       "['3d', '4d', '13d', '17d', '11d', '17d', '24d', '17d', '24h', '10d']"
      ]
     },
     "execution_count": 290,
     "metadata": {},
     "output_type": "execute_result"
    }
   ],
   "source": [
    "noofdays =[]\n",
    "for i in no[:10]:\n",
    "    noofdays.append(i.text)\n",
    "noofdays"
   ]
  },
  {
   "cell_type": "code",
   "execution_count": 293,
   "metadata": {
    "scrolled": true
   },
   "outputs": [],
   "source": [
    "#rating\n",
    "rating=driver.find_elements_by_xpath(\"//span[@class='css-19pjha7 e1cjmv6j1']\")"
   ]
  },
  {
   "cell_type": "code",
   "execution_count": 294,
   "metadata": {
    "scrolled": true
   },
   "outputs": [
    {
     "data": {
      "text/plain": [
       "['3.6', '4.1', '4.1', '3.7', '3.8', '3.1', '3.8', '5.0', '4.0', '4.1']"
      ]
     },
     "execution_count": 294,
     "metadata": {},
     "output_type": "execute_result"
    }
   ],
   "source": [
    "ratings =[]\n",
    "for i in rating[:10]:\n",
    "    ratings.append(i.text)\n",
    "ratings"
   ]
  },
  {
   "cell_type": "code",
   "execution_count": 295,
   "metadata": {},
   "outputs": [
    {
     "name": "stdout",
     "output_type": "stream",
     "text": [
      "10 10 10\n"
     ]
    }
   ],
   "source": [
    "print(len(company), len(noofdays), len(ratings))"
   ]
  },
  {
   "cell_type": "code",
   "execution_count": 296,
   "metadata": {},
   "outputs": [],
   "source": [
    "import pandas as pd\n",
    "\n",
    "Jobs=pd.DataFrame({})\n",
    "Jobs['Company']=company\n",
    "Jobs['No of Days']=noofdays\n",
    "Jobs['Ratings']=ratings"
   ]
  },
  {
   "cell_type": "code",
   "execution_count": 297,
   "metadata": {
    "scrolled": true
   },
   "outputs": [
    {
     "data": {
      "text/html": [
       "<div>\n",
       "<style scoped>\n",
       "    .dataframe tbody tr th:only-of-type {\n",
       "        vertical-align: middle;\n",
       "    }\n",
       "\n",
       "    .dataframe tbody tr th {\n",
       "        vertical-align: top;\n",
       "    }\n",
       "\n",
       "    .dataframe thead th {\n",
       "        text-align: right;\n",
       "    }\n",
       "</style>\n",
       "<table border=\"1\" class=\"dataframe\">\n",
       "  <thead>\n",
       "    <tr style=\"text-align: right;\">\n",
       "      <th></th>\n",
       "      <th>Company</th>\n",
       "      <th>No of Days</th>\n",
       "      <th>Ratings</th>\n",
       "    </tr>\n",
       "  </thead>\n",
       "  <tbody>\n",
       "    <tr>\n",
       "      <th>0</th>\n",
       "      <td>UnitedHealth Group</td>\n",
       "      <td>3d</td>\n",
       "      <td>3.6</td>\n",
       "    </tr>\n",
       "    <tr>\n",
       "      <th>1</th>\n",
       "      <td>Ericsson</td>\n",
       "      <td>4d</td>\n",
       "      <td>4.1</td>\n",
       "    </tr>\n",
       "    <tr>\n",
       "      <th>2</th>\n",
       "      <td>Mansha Solutions</td>\n",
       "      <td>13d</td>\n",
       "      <td>4.1</td>\n",
       "    </tr>\n",
       "    <tr>\n",
       "      <th>3</th>\n",
       "      <td>Priority Vendor</td>\n",
       "      <td>17d</td>\n",
       "      <td>3.7</td>\n",
       "    </tr>\n",
       "    <tr>\n",
       "      <th>4</th>\n",
       "      <td>Lantern Digital Services</td>\n",
       "      <td>11d</td>\n",
       "      <td>3.8</td>\n",
       "    </tr>\n",
       "    <tr>\n",
       "      <th>5</th>\n",
       "      <td>Gauge Data Solutions</td>\n",
       "      <td>17d</td>\n",
       "      <td>3.1</td>\n",
       "    </tr>\n",
       "    <tr>\n",
       "      <th>6</th>\n",
       "      <td>Techlive</td>\n",
       "      <td>24d</td>\n",
       "      <td>3.8</td>\n",
       "    </tr>\n",
       "    <tr>\n",
       "      <th>7</th>\n",
       "      <td>Sparkbpl</td>\n",
       "      <td>17d</td>\n",
       "      <td>5.0</td>\n",
       "    </tr>\n",
       "    <tr>\n",
       "      <th>8</th>\n",
       "      <td>WishFin</td>\n",
       "      <td>24h</td>\n",
       "      <td>4.0</td>\n",
       "    </tr>\n",
       "    <tr>\n",
       "      <th>9</th>\n",
       "      <td>Skyjobs hr services</td>\n",
       "      <td>10d</td>\n",
       "      <td>4.1</td>\n",
       "    </tr>\n",
       "  </tbody>\n",
       "</table>\n",
       "</div>"
      ],
      "text/plain": [
       "                    Company No of Days Ratings\n",
       "0        UnitedHealth Group         3d     3.6\n",
       "1                  Ericsson         4d     4.1\n",
       "2          Mansha Solutions        13d     4.1\n",
       "3           Priority Vendor        17d     3.7\n",
       "4  Lantern Digital Services        11d     3.8\n",
       "5      Gauge Data Solutions        17d     3.1\n",
       "6                  Techlive        24d     3.8\n",
       "7                  Sparkbpl        17d     5.0\n",
       "8                   WishFin        24h     4.0\n",
       "9       Skyjobs hr services        10d     4.1"
      ]
     },
     "execution_count": 297,
     "metadata": {},
     "output_type": "execute_result"
    }
   ],
   "source": [
    "Jobs"
   ]
  },
  {
   "cell_type": "markdown",
   "metadata": {},
   "source": [
    "# Question 5 :\n",
    "    Write a python program to scrape the salary data for Data Scientist designation in Noida location.You have to scrape Company name, Number of salaries, Average salary, Min salary, Max Salary."
   ]
  },
  {
   "cell_type": "code",
   "execution_count": 269,
   "metadata": {},
   "outputs": [],
   "source": [
    "#connect to webdriver\n",
    "driver = webdriver.Chrome(r\"C:\\Users\\Neha Vishnudas Pai\\Downloads\\chromedriver.exe\")"
   ]
  },
  {
   "cell_type": "code",
   "execution_count": 270,
   "metadata": {},
   "outputs": [],
   "source": [
    "url = 'https://www.glassdoor.co.in/Salaries/index.htm'\n",
    "driver.get(url)"
   ]
  },
  {
   "cell_type": "code",
   "execution_count": 271,
   "metadata": {},
   "outputs": [
    {
     "data": {
      "text/plain": [
       "<selenium.webdriver.remote.webelement.WebElement (session=\"3ce4e1ee84ee574dfb8ddd99114aa536\", element=\"e20087c4-9ffe-4197-94e6-04a96315dd03\")>"
      ]
     },
     "execution_count": 271,
     "metadata": {},
     "output_type": "execute_result"
    }
   ],
   "source": [
    "search_job = driver.find_element_by_xpath(\"//input[@class='keyword']\")\n",
    "search_job"
   ]
  },
  {
   "cell_type": "code",
   "execution_count": 272,
   "metadata": {},
   "outputs": [],
   "source": [
    "#write on search bar\n",
    "search_job.send_keys(\"Data Scientist\")"
   ]
  },
  {
   "cell_type": "code",
   "execution_count": 273,
   "metadata": {},
   "outputs": [],
   "source": [
    "location = driver.find_element_by_xpath(\"//input[@class='loc']\")\n",
    "location.clear()\n",
    "location.send_keys(\"Noida\")"
   ]
  },
  {
   "cell_type": "code",
   "execution_count": 274,
   "metadata": {},
   "outputs": [],
   "source": [
    "#do click using xpath function\n",
    "search_btn= driver.find_element_by_xpath(\"//button[@class='gd-btn-mkt']\")\n",
    "search_btn.click()"
   ]
  },
  {
   "cell_type": "code",
   "execution_count": 275,
   "metadata": {},
   "outputs": [],
   "source": [
    "#company name\n",
    "name=driver.find_elements_by_xpath(\"//p[@class='m-0 ']\")"
   ]
  },
  {
   "cell_type": "code",
   "execution_count": 276,
   "metadata": {},
   "outputs": [
    {
     "data": {
      "text/plain": [
       "['Tata Consultancy Services',\n",
       " 'IBM',\n",
       " 'Accenture',\n",
       " 'Ericsson-Worldwide',\n",
       " 'Delhivery',\n",
       " 'UnitedHealth Group',\n",
       " 'Valiance Solutions',\n",
       " 'ZS Associates',\n",
       " 'EXL Service',\n",
       " 'Optum Global Solutions']"
      ]
     },
     "execution_count": 276,
     "metadata": {},
     "output_type": "execute_result"
    }
   ],
   "source": [
    "company =[]\n",
    "for i in name[:10]:\n",
    "    company.append(i.text)\n",
    "company"
   ]
  },
  {
   "cell_type": "code",
   "execution_count": 253,
   "metadata": {},
   "outputs": [],
   "source": [
    "#no of salaries\n",
    "salno=driver.find_elements_by_xpath(\"//p[@class='css-1uyte9r css-1kuy7z7 m-0 ']\")"
   ]
  },
  {
   "cell_type": "code",
   "execution_count": 206,
   "metadata": {},
   "outputs": [
    {
     "data": {
      "text/plain": [
       "['17 salaries',\n",
       " '15 salaries',\n",
       " '14 salaries',\n",
       " '14 salaries',\n",
       " '14 salaries',\n",
       " '11 salaries',\n",
       " '9 salaries',\n",
       " '8 salaries',\n",
       " '8 salaries',\n",
       " '8 salaries']"
      ]
     },
     "execution_count": 206,
     "metadata": {},
     "output_type": "execute_result"
    }
   ],
   "source": [
    "salaries =[]\n",
    "for i in salno[:10]:\n",
    "    salaries.append(i.text)\n",
    "salaries"
   ]
  },
  {
   "cell_type": "code",
   "execution_count": 207,
   "metadata": {},
   "outputs": [],
   "source": [
    "#avg salary\n",
    "salavg=driver.find_elements_by_xpath(\"//div[@class='col-2 d-none d-md-flex flex-row justify-content-end']\")"
   ]
  },
  {
   "cell_type": "code",
   "execution_count": 208,
   "metadata": {},
   "outputs": [
    {
     "data": {
      "text/plain": [
       "['₹ 6,14,306\\n/yr',\n",
       " '₹ 9,00,000\\n/yr',\n",
       " '₹ 11,46,533\\n/yr',\n",
       " '₹ 7,38,057\\n/yr',\n",
       " '₹ 12,39,781\\n/yr',\n",
       " '₹ 13,36,142\\n/yr',\n",
       " '₹ 8,15,192\\n/yr',\n",
       " '₹ 11,35,221\\n/yr',\n",
       " '₹ 11,44,243\\n/yr',\n",
       " '₹ 14,13,288\\n/yr']"
      ]
     },
     "execution_count": 208,
     "metadata": {},
     "output_type": "execute_result"
    }
   ],
   "source": [
    "avgsalaries =[]\n",
    "for i in salavg[:10]:\n",
    "    avgsalaries.append(i.text)\n",
    "avgsalaries"
   ]
  },
  {
   "cell_type": "code",
   "execution_count": 209,
   "metadata": {},
   "outputs": [],
   "source": [
    "#min salary\n",
    "salmin=driver.find_elements_by_xpath(\"//div[@class='common__RangeBarStyle__values d-flex justify-content-between ']\")"
   ]
  },
  {
   "cell_type": "code",
   "execution_count": 237,
   "metadata": {},
   "outputs": [
    {
     "data": {
      "text/plain": [
       "[['₹343K', '₹1,250K'],\n",
       " ['₹586K', '₹2,730K'],\n",
       " ['₹577K', '₹2,213K'],\n",
       " ['₹355K', '₹1,613K'],\n",
       " ['₹450K', '₹11,622K'],\n",
       " ['₹1,069K', '₹1,520K'],\n",
       " ['₹502K', '₹1,465K'],\n",
       " ['₹202K', '₹1,809K'],\n",
       " ['₹575K', '₹1,520K'],\n",
       " ['₹1,014K', '₹2,149K']]"
      ]
     },
     "execution_count": 237,
     "metadata": {},
     "output_type": "execute_result"
    }
   ],
   "source": [
    "minmaxsalaries=[]\n",
    "for i in salmin[:10]:\n",
    "    minmaxsalaries.append(i.text.split('\\n'))\n",
    "minmaxsalaries"
   ]
  },
  {
   "cell_type": "code",
   "execution_count": 238,
   "metadata": {},
   "outputs": [
    {
     "name": "stdout",
     "output_type": "stream",
     "text": [
      "10 10 10 10\n"
     ]
    }
   ],
   "source": [
    "print(len(company), len(salaries), len(avgsalaries), len(minmaxsalaries))"
   ]
  },
  {
   "cell_type": "code",
   "execution_count": 240,
   "metadata": {},
   "outputs": [],
   "source": [
    "import pandas as pd\n",
    "\n",
    "Jobs=pd.DataFrame({})\n",
    "Jobs['Company']=company\n",
    "Jobs['No of Salaries']=salaries\n",
    "Jobs['Avg Salary']=avgsalaries\n",
    "Jobs['Mininum and Maximum Salaries']=minmaxsalaries"
   ]
  },
  {
   "cell_type": "code",
   "execution_count": 241,
   "metadata": {},
   "outputs": [
    {
     "data": {
      "text/html": [
       "<div>\n",
       "<style scoped>\n",
       "    .dataframe tbody tr th:only-of-type {\n",
       "        vertical-align: middle;\n",
       "    }\n",
       "\n",
       "    .dataframe tbody tr th {\n",
       "        vertical-align: top;\n",
       "    }\n",
       "\n",
       "    .dataframe thead th {\n",
       "        text-align: right;\n",
       "    }\n",
       "</style>\n",
       "<table border=\"1\" class=\"dataframe\">\n",
       "  <thead>\n",
       "    <tr style=\"text-align: right;\">\n",
       "      <th></th>\n",
       "      <th>Company</th>\n",
       "      <th>No of Salaries</th>\n",
       "      <th>Avg Salary</th>\n",
       "      <th>Mininum and Maximum Salaries</th>\n",
       "    </tr>\n",
       "  </thead>\n",
       "  <tbody>\n",
       "    <tr>\n",
       "      <th>0</th>\n",
       "      <td>Tata Consultancy Services</td>\n",
       "      <td>[₹343K, ₹1,250K]</td>\n",
       "      <td>₹ 6,14,306\\n/yr</td>\n",
       "      <td>[₹343K, ₹1,250K]</td>\n",
       "    </tr>\n",
       "    <tr>\n",
       "      <th>1</th>\n",
       "      <td>IBM</td>\n",
       "      <td>[₹586K, ₹2,730K]</td>\n",
       "      <td>₹ 9,00,000\\n/yr</td>\n",
       "      <td>[₹586K, ₹2,730K]</td>\n",
       "    </tr>\n",
       "    <tr>\n",
       "      <th>2</th>\n",
       "      <td>Accenture</td>\n",
       "      <td>[₹577K, ₹2,213K]</td>\n",
       "      <td>₹ 11,46,533\\n/yr</td>\n",
       "      <td>[₹577K, ₹2,213K]</td>\n",
       "    </tr>\n",
       "    <tr>\n",
       "      <th>3</th>\n",
       "      <td>Ericsson-Worldwide</td>\n",
       "      <td>[₹355K, ₹1,613K]</td>\n",
       "      <td>₹ 7,38,057\\n/yr</td>\n",
       "      <td>[₹355K, ₹1,613K]</td>\n",
       "    </tr>\n",
       "    <tr>\n",
       "      <th>4</th>\n",
       "      <td>Delhivery</td>\n",
       "      <td>[₹450K, ₹11,622K]</td>\n",
       "      <td>₹ 12,39,781\\n/yr</td>\n",
       "      <td>[₹450K, ₹11,622K]</td>\n",
       "    </tr>\n",
       "    <tr>\n",
       "      <th>5</th>\n",
       "      <td>UnitedHealth Group</td>\n",
       "      <td>[₹1,069K, ₹1,520K]</td>\n",
       "      <td>₹ 13,36,142\\n/yr</td>\n",
       "      <td>[₹1,069K, ₹1,520K]</td>\n",
       "    </tr>\n",
       "    <tr>\n",
       "      <th>6</th>\n",
       "      <td>Valiance Solutions</td>\n",
       "      <td>[₹502K, ₹1,465K]</td>\n",
       "      <td>₹ 8,15,192\\n/yr</td>\n",
       "      <td>[₹502K, ₹1,465K]</td>\n",
       "    </tr>\n",
       "    <tr>\n",
       "      <th>7</th>\n",
       "      <td>ZS Associates</td>\n",
       "      <td>[₹202K, ₹1,809K]</td>\n",
       "      <td>₹ 11,35,221\\n/yr</td>\n",
       "      <td>[₹202K, ₹1,809K]</td>\n",
       "    </tr>\n",
       "    <tr>\n",
       "      <th>8</th>\n",
       "      <td>EXL Service</td>\n",
       "      <td>[₹575K, ₹1,520K]</td>\n",
       "      <td>₹ 11,44,243\\n/yr</td>\n",
       "      <td>[₹575K, ₹1,520K]</td>\n",
       "    </tr>\n",
       "    <tr>\n",
       "      <th>9</th>\n",
       "      <td>Optum Global Solutions</td>\n",
       "      <td>[₹1,014K, ₹2,149K]</td>\n",
       "      <td>₹ 14,13,288\\n/yr</td>\n",
       "      <td>[₹1,014K, ₹2,149K]</td>\n",
       "    </tr>\n",
       "  </tbody>\n",
       "</table>\n",
       "</div>"
      ],
      "text/plain": [
       "                     Company      No of Salaries        Avg Salary  \\\n",
       "0  Tata Consultancy Services    [₹343K, ₹1,250K]   ₹ 6,14,306\\n/yr   \n",
       "1                        IBM    [₹586K, ₹2,730K]   ₹ 9,00,000\\n/yr   \n",
       "2                  Accenture    [₹577K, ₹2,213K]  ₹ 11,46,533\\n/yr   \n",
       "3         Ericsson-Worldwide    [₹355K, ₹1,613K]   ₹ 7,38,057\\n/yr   \n",
       "4                  Delhivery   [₹450K, ₹11,622K]  ₹ 12,39,781\\n/yr   \n",
       "5         UnitedHealth Group  [₹1,069K, ₹1,520K]  ₹ 13,36,142\\n/yr   \n",
       "6         Valiance Solutions    [₹502K, ₹1,465K]   ₹ 8,15,192\\n/yr   \n",
       "7              ZS Associates    [₹202K, ₹1,809K]  ₹ 11,35,221\\n/yr   \n",
       "8                EXL Service    [₹575K, ₹1,520K]  ₹ 11,44,243\\n/yr   \n",
       "9     Optum Global Solutions  [₹1,014K, ₹2,149K]  ₹ 14,13,288\\n/yr   \n",
       "\n",
       "  Mininum and Maximum Salaries  \n",
       "0             [₹343K, ₹1,250K]  \n",
       "1             [₹586K, ₹2,730K]  \n",
       "2             [₹577K, ₹2,213K]  \n",
       "3             [₹355K, ₹1,613K]  \n",
       "4            [₹450K, ₹11,622K]  \n",
       "5           [₹1,069K, ₹1,520K]  \n",
       "6             [₹502K, ₹1,465K]  \n",
       "7             [₹202K, ₹1,809K]  \n",
       "8             [₹575K, ₹1,520K]  \n",
       "9           [₹1,014K, ₹2,149K]  "
      ]
     },
     "execution_count": 241,
     "metadata": {},
     "output_type": "execute_result"
    }
   ],
   "source": [
    "Jobs"
   ]
  },
  {
   "cell_type": "code",
   "execution_count": null,
   "metadata": {},
   "outputs": [],
   "source": []
  },
  {
   "cell_type": "markdown",
   "metadata": {},
   "source": [
    "# Question 6 : \n",
    "    Scrape data of first 100 sunglasses listings on flipkart.com. You have to scrape four attributes:\n",
    "1. Brand\n",
    "2. Product Description\n",
    "3. Price\n",
    "4. Discount %"
   ]
  },
  {
   "cell_type": "code",
   "execution_count": 168,
   "metadata": {},
   "outputs": [],
   "source": [
    "#connect to webdriver\n",
    "driver = webdriver.Chrome(r\"C:\\Users\\Neha Vishnudas Pai\\Downloads\\chromedriver.exe\")"
   ]
  },
  {
   "cell_type": "code",
   "execution_count": 169,
   "metadata": {},
   "outputs": [],
   "source": [
    "url = 'https://www.flipkart.com/'\n",
    "driver.get(url)\n",
    "time.sleep(5)"
   ]
  },
  {
   "cell_type": "code",
   "execution_count": 170,
   "metadata": {},
   "outputs": [
    {
     "data": {
      "text/plain": [
       "<selenium.webdriver.remote.webelement.WebElement (session=\"192b4b773eca5e9160f995e6a1a80fdc\", element=\"644caed5-f19b-4fe9-a34d-1db2824cb584\")>"
      ]
     },
     "execution_count": 170,
     "metadata": {},
     "output_type": "execute_result"
    }
   ],
   "source": [
    "#finding element for job search bar\n",
    "search_bar = driver.find_element_by_xpath(\"//input[@class='_3704LK']\")\n",
    "search_bar"
   ]
  },
  {
   "cell_type": "code",
   "execution_count": 171,
   "metadata": {},
   "outputs": [],
   "source": [
    "#write on search bar\n",
    "search_bar.send_keys(\"sunglasses\")"
   ]
  },
  {
   "cell_type": "code",
   "execution_count": 172,
   "metadata": {},
   "outputs": [],
   "source": [
    "#do click using xpath function\n",
    "search_btn= driver.find_element_by_xpath(\"//button[@class='L0Z3Pu']\")\n",
    "search_btn.click()"
   ]
  },
  {
   "cell_type": "code",
   "execution_count": 173,
   "metadata": {},
   "outputs": [],
   "source": [
    "#brand\n",
    "brand=driver.find_elements_by_xpath(\"//div[@class='_2WkVRV']\")"
   ]
  },
  {
   "cell_type": "code",
   "execution_count": 174,
   "metadata": {},
   "outputs": [
    {
     "data": {
      "text/plain": [
       "['Fastrack',\n",
       " 'Fastrack',\n",
       " 'ROZZETTA CRAFT',\n",
       " 'PIRASO',\n",
       " 'ROZZETTA CRAFT',\n",
       " 'Fastrack',\n",
       " 'Fastrack',\n",
       " 'Fastrack',\n",
       " 'Fastrack',\n",
       " 'Fastrack',\n",
       " 'NuVew',\n",
       " 'Fastrack',\n",
       " 'ROZZETTA CRAFT',\n",
       " 'DEIXELS',\n",
       " 'Fastrack',\n",
       " 'HIPPON',\n",
       " 'hipe',\n",
       " 'ROYAL SON',\n",
       " 'ROYAL SON',\n",
       " 'ROZZETTA CRAFT',\n",
       " 'hipe',\n",
       " 'ROZZETTA CRAFT',\n",
       " 'Fastrack',\n",
       " 'Fastrack',\n",
       " 'Fastrack',\n",
       " 'Fastrack',\n",
       " 'ROZZETTA CRAFT',\n",
       " 'Fastrack',\n",
       " 'Silver Kartz',\n",
       " 'Singco India',\n",
       " 'ROYAL SON',\n",
       " 'PHENOMENAL',\n",
       " 'GANSTA',\n",
       " 'Silver Kartz',\n",
       " 'Fastrack',\n",
       " 'DEIXELS',\n",
       " 'Fastrack',\n",
       " 'ROYAL SON',\n",
       " 'Singco India',\n",
       " 'GANSTA']"
      ]
     },
     "execution_count": 174,
     "metadata": {},
     "output_type": "execute_result"
    }
   ],
   "source": [
    "prod_brand =[]\n",
    "for i in brand[:100]:\n",
    "    prod_brand.append(i.text)\n",
    "prod_brand"
   ]
  },
  {
   "cell_type": "code",
   "execution_count": 175,
   "metadata": {},
   "outputs": [],
   "source": [
    "#glass desc\n",
    "desc=driver.find_elements_by_xpath(\"//a[@class='IRpwTa']\")"
   ]
  },
  {
   "cell_type": "code",
   "execution_count": 176,
   "metadata": {},
   "outputs": [
    {
     "data": {
      "text/plain": [
       "['UV Protection Rectangular Sunglasses (Free Size)',\n",
       " 'UV Protection Wayfarer Sunglasses (Free Size)',\n",
       " 'UV Protection Retro Square Sunglasses (Free Size)',\n",
       " 'UV Protection Aviator Sunglasses (Free Size)',\n",
       " 'UV Protection, Gradient Rectangular Sunglasses (Free Si...',\n",
       " 'UV Protection Aviator Sunglasses (58)',\n",
       " 'UV Protection Aviator Sunglasses (Free Size)',\n",
       " 'UV Protection Wayfarer Sunglasses (56)',\n",
       " 'UV Protection Shield Sunglasses (Free Size)',\n",
       " 'Gradient, UV Protection Wayfarer Sunglasses (Free Size)',\n",
       " 'UV Protection Aviator Sunglasses (58)',\n",
       " 'Gradient, UV Protection Wayfarer Sunglasses (Free Size)',\n",
       " 'UV Protection Retro Square Sunglasses (Free Size)',\n",
       " 'UV Protection Round Sunglasses (Free Size)',\n",
       " 'UV Protection Wayfarer Sunglasses (Free Size)',\n",
       " 'UV Protection Wayfarer Sunglasses (55)',\n",
       " 'Mirrored Wayfarer Sunglasses (55)',\n",
       " 'Mirrored Aviator Sunglasses (55)',\n",
       " 'UV Protection Wayfarer Sunglasses (55)',\n",
       " 'UV Protection, Gradient Rectangular Sunglasses (Free Si...',\n",
       " 'UV Protection Sports Sunglasses (Free Size)',\n",
       " 'UV Protection, Riding Glasses Rectangular Sunglasses (F...',\n",
       " 'Gradient, UV Protection Wayfarer Sunglasses (Free Size)',\n",
       " 'UV Protection Wayfarer Sunglasses (57)',\n",
       " 'UV Protection, Polarized Wayfarer Sunglasses (56)',\n",
       " 'UV Protection Wayfarer Sunglasses (Free Size)',\n",
       " 'Gradient, UV Protection Round Sunglasses (Free Size)',\n",
       " 'UV Protection Wayfarer Sunglasses (Free Size)',\n",
       " 'UV Protection Oval Sunglasses (56)',\n",
       " 'UV Protection Aviator Sunglasses (Free Size)',\n",
       " 'UV Protection, Gradient Wayfarer Sunglasses (55)',\n",
       " 'UV Protection Clubmaster Sunglasses (Free Size)',\n",
       " 'UV Protection, Mirrored Wayfarer Sunglasses (53)',\n",
       " 'UV Protection Wayfarer Sunglasses (Free Size)',\n",
       " 'UV Protection Aviator Sunglasses (58)',\n",
       " 'UV Protection Aviator, Wayfarer Sunglasses (Free Size)',\n",
       " 'UV Protection Wayfarer Sunglasses (Free Size)',\n",
       " 'Polarized, UV Protection Aviator Sunglasses (58)',\n",
       " 'Mirrored, Riding Glasses, Others Sports Sunglasses (50)',\n",
       " 'UV Protection Aviator Sunglasses (57)']"
      ]
     },
     "execution_count": 176,
     "metadata": {},
     "output_type": "execute_result"
    }
   ],
   "source": [
    "prod_desc =[]\n",
    "for i in desc[:100]:\n",
    "    prod_desc.append(i.text)\n",
    "prod_desc"
   ]
  },
  {
   "cell_type": "code",
   "execution_count": 177,
   "metadata": {},
   "outputs": [],
   "source": [
    "#price\n",
    "price=driver.find_elements_by_xpath(\"//div[@class='_30jeq3']\")"
   ]
  },
  {
   "cell_type": "code",
   "execution_count": 178,
   "metadata": {},
   "outputs": [
    {
     "data": {
      "text/plain": [
       "['₹570',\n",
       " '₹733',\n",
       " '₹499',\n",
       " '₹349',\n",
       " '₹404',\n",
       " '₹1,123',\n",
       " '₹674',\n",
       " '₹759',\n",
       " '₹759',\n",
       " '₹638',\n",
       " '₹215',\n",
       " '₹621',\n",
       " '₹499',\n",
       " '₹209',\n",
       " '₹836',\n",
       " '₹251',\n",
       " '₹219',\n",
       " '₹379',\n",
       " '₹265',\n",
       " '₹499',\n",
       " '₹319',\n",
       " '₹449',\n",
       " '₹629',\n",
       " '₹559',\n",
       " '₹759',\n",
       " '₹758',\n",
       " '₹449',\n",
       " '₹758',\n",
       " '₹299',\n",
       " '₹339',\n",
       " '₹217',\n",
       " '₹319',\n",
       " '₹199',\n",
       " '₹259',\n",
       " '₹1,115',\n",
       " '₹213',\n",
       " '₹627',\n",
       " '₹711',\n",
       " '₹249',\n",
       " '₹281']"
      ]
     },
     "execution_count": 178,
     "metadata": {},
     "output_type": "execute_result"
    }
   ],
   "source": [
    "prod_price =[]\n",
    "for i in price[:100]:\n",
    "    prod_price.append(i.text)\n",
    "prod_price"
   ]
  },
  {
   "cell_type": "code",
   "execution_count": 179,
   "metadata": {},
   "outputs": [],
   "source": [
    "#discount\n",
    "discount=driver.find_elements_by_xpath(\"//div[@class='_3Ay6Sb']//span\")"
   ]
  },
  {
   "cell_type": "code",
   "execution_count": 180,
   "metadata": {},
   "outputs": [
    {
     "data": {
      "text/plain": [
       "['28% off',\n",
       " '18% off',\n",
       " '77% off',\n",
       " '78% off',\n",
       " '79% off',\n",
       " '13% off',\n",
       " '25% off',\n",
       " '15% off',\n",
       " '15% off',\n",
       " '20% off',\n",
       " '72% off',\n",
       " '22% off',\n",
       " '77% off',\n",
       " '73% off',\n",
       " '7% off',\n",
       " '79% off',\n",
       " '78% off',\n",
       " '74% off',\n",
       " '79% off',\n",
       " '77% off',\n",
       " '83% off',\n",
       " '79% off',\n",
       " '21% off',\n",
       " '30% off',\n",
       " '15% off',\n",
       " '15% off',\n",
       " '77% off',\n",
       " '15% off',\n",
       " '75% off',\n",
       " '71% off',\n",
       " '78% off',\n",
       " '84% off',\n",
       " '80% off',\n",
       " '82% off',\n",
       " '14% off',\n",
       " '82% off',\n",
       " '21% off',\n",
       " '64% off',\n",
       " '83% off',\n",
       " '85% off']"
      ]
     },
     "execution_count": 180,
     "metadata": {},
     "output_type": "execute_result"
    }
   ],
   "source": [
    "prod_disc =[]\n",
    "for i in discount[:100]:\n",
    "    prod_disc.append(i.text)\n",
    "prod_disc"
   ]
  },
  {
   "cell_type": "code",
   "execution_count": 181,
   "metadata": {},
   "outputs": [
    {
     "name": "stdout",
     "output_type": "stream",
     "text": [
      "40 40 40 40\n"
     ]
    }
   ],
   "source": [
    "print(len(prod_brand), len(prod_desc), len(prod_price), len(prod_disc))"
   ]
  },
  {
   "cell_type": "code",
   "execution_count": 182,
   "metadata": {},
   "outputs": [],
   "source": [
    "import pandas as pd\n",
    "\n",
    "products=pd.DataFrame({})\n",
    "products['brand']=prod_brand\n",
    "products['ratings']=prod_desc\n",
    "products['price']=prod_price\n",
    "products['discount']=prod_disc"
   ]
  },
  {
   "cell_type": "code",
   "execution_count": 183,
   "metadata": {},
   "outputs": [
    {
     "data": {
      "text/html": [
       "<div>\n",
       "<style scoped>\n",
       "    .dataframe tbody tr th:only-of-type {\n",
       "        vertical-align: middle;\n",
       "    }\n",
       "\n",
       "    .dataframe tbody tr th {\n",
       "        vertical-align: top;\n",
       "    }\n",
       "\n",
       "    .dataframe thead th {\n",
       "        text-align: right;\n",
       "    }\n",
       "</style>\n",
       "<table border=\"1\" class=\"dataframe\">\n",
       "  <thead>\n",
       "    <tr style=\"text-align: right;\">\n",
       "      <th></th>\n",
       "      <th>brand</th>\n",
       "      <th>ratings</th>\n",
       "      <th>price</th>\n",
       "      <th>discount</th>\n",
       "    </tr>\n",
       "  </thead>\n",
       "  <tbody>\n",
       "    <tr>\n",
       "      <th>0</th>\n",
       "      <td>Fastrack</td>\n",
       "      <td>UV Protection Rectangular Sunglasses (Free Size)</td>\n",
       "      <td>₹570</td>\n",
       "      <td>28% off</td>\n",
       "    </tr>\n",
       "    <tr>\n",
       "      <th>1</th>\n",
       "      <td>Fastrack</td>\n",
       "      <td>UV Protection Wayfarer Sunglasses (Free Size)</td>\n",
       "      <td>₹733</td>\n",
       "      <td>18% off</td>\n",
       "    </tr>\n",
       "    <tr>\n",
       "      <th>2</th>\n",
       "      <td>ROZZETTA CRAFT</td>\n",
       "      <td>UV Protection Retro Square Sunglasses (Free Size)</td>\n",
       "      <td>₹499</td>\n",
       "      <td>77% off</td>\n",
       "    </tr>\n",
       "    <tr>\n",
       "      <th>3</th>\n",
       "      <td>PIRASO</td>\n",
       "      <td>UV Protection Aviator Sunglasses (Free Size)</td>\n",
       "      <td>₹349</td>\n",
       "      <td>78% off</td>\n",
       "    </tr>\n",
       "    <tr>\n",
       "      <th>4</th>\n",
       "      <td>ROZZETTA CRAFT</td>\n",
       "      <td>UV Protection, Gradient Rectangular Sunglasses...</td>\n",
       "      <td>₹404</td>\n",
       "      <td>79% off</td>\n",
       "    </tr>\n",
       "    <tr>\n",
       "      <th>5</th>\n",
       "      <td>Fastrack</td>\n",
       "      <td>UV Protection Aviator Sunglasses (58)</td>\n",
       "      <td>₹1,123</td>\n",
       "      <td>13% off</td>\n",
       "    </tr>\n",
       "    <tr>\n",
       "      <th>6</th>\n",
       "      <td>Fastrack</td>\n",
       "      <td>UV Protection Aviator Sunglasses (Free Size)</td>\n",
       "      <td>₹674</td>\n",
       "      <td>25% off</td>\n",
       "    </tr>\n",
       "    <tr>\n",
       "      <th>7</th>\n",
       "      <td>Fastrack</td>\n",
       "      <td>UV Protection Wayfarer Sunglasses (56)</td>\n",
       "      <td>₹759</td>\n",
       "      <td>15% off</td>\n",
       "    </tr>\n",
       "    <tr>\n",
       "      <th>8</th>\n",
       "      <td>Fastrack</td>\n",
       "      <td>UV Protection Shield Sunglasses (Free Size)</td>\n",
       "      <td>₹759</td>\n",
       "      <td>15% off</td>\n",
       "    </tr>\n",
       "    <tr>\n",
       "      <th>9</th>\n",
       "      <td>Fastrack</td>\n",
       "      <td>Gradient, UV Protection Wayfarer Sunglasses (F...</td>\n",
       "      <td>₹638</td>\n",
       "      <td>20% off</td>\n",
       "    </tr>\n",
       "    <tr>\n",
       "      <th>10</th>\n",
       "      <td>NuVew</td>\n",
       "      <td>UV Protection Aviator Sunglasses (58)</td>\n",
       "      <td>₹215</td>\n",
       "      <td>72% off</td>\n",
       "    </tr>\n",
       "    <tr>\n",
       "      <th>11</th>\n",
       "      <td>Fastrack</td>\n",
       "      <td>Gradient, UV Protection Wayfarer Sunglasses (F...</td>\n",
       "      <td>₹621</td>\n",
       "      <td>22% off</td>\n",
       "    </tr>\n",
       "    <tr>\n",
       "      <th>12</th>\n",
       "      <td>ROZZETTA CRAFT</td>\n",
       "      <td>UV Protection Retro Square Sunglasses (Free Size)</td>\n",
       "      <td>₹499</td>\n",
       "      <td>77% off</td>\n",
       "    </tr>\n",
       "    <tr>\n",
       "      <th>13</th>\n",
       "      <td>DEIXELS</td>\n",
       "      <td>UV Protection Round Sunglasses (Free Size)</td>\n",
       "      <td>₹209</td>\n",
       "      <td>73% off</td>\n",
       "    </tr>\n",
       "    <tr>\n",
       "      <th>14</th>\n",
       "      <td>Fastrack</td>\n",
       "      <td>UV Protection Wayfarer Sunglasses (Free Size)</td>\n",
       "      <td>₹836</td>\n",
       "      <td>7% off</td>\n",
       "    </tr>\n",
       "    <tr>\n",
       "      <th>15</th>\n",
       "      <td>HIPPON</td>\n",
       "      <td>UV Protection Wayfarer Sunglasses (55)</td>\n",
       "      <td>₹251</td>\n",
       "      <td>79% off</td>\n",
       "    </tr>\n",
       "    <tr>\n",
       "      <th>16</th>\n",
       "      <td>hipe</td>\n",
       "      <td>Mirrored Wayfarer Sunglasses (55)</td>\n",
       "      <td>₹219</td>\n",
       "      <td>78% off</td>\n",
       "    </tr>\n",
       "    <tr>\n",
       "      <th>17</th>\n",
       "      <td>ROYAL SON</td>\n",
       "      <td>Mirrored Aviator Sunglasses (55)</td>\n",
       "      <td>₹379</td>\n",
       "      <td>74% off</td>\n",
       "    </tr>\n",
       "    <tr>\n",
       "      <th>18</th>\n",
       "      <td>ROYAL SON</td>\n",
       "      <td>UV Protection Wayfarer Sunglasses (55)</td>\n",
       "      <td>₹265</td>\n",
       "      <td>79% off</td>\n",
       "    </tr>\n",
       "    <tr>\n",
       "      <th>19</th>\n",
       "      <td>ROZZETTA CRAFT</td>\n",
       "      <td>UV Protection, Gradient Rectangular Sunglasses...</td>\n",
       "      <td>₹499</td>\n",
       "      <td>77% off</td>\n",
       "    </tr>\n",
       "    <tr>\n",
       "      <th>20</th>\n",
       "      <td>hipe</td>\n",
       "      <td>UV Protection Sports Sunglasses (Free Size)</td>\n",
       "      <td>₹319</td>\n",
       "      <td>83% off</td>\n",
       "    </tr>\n",
       "    <tr>\n",
       "      <th>21</th>\n",
       "      <td>ROZZETTA CRAFT</td>\n",
       "      <td>UV Protection, Riding Glasses Rectangular Sung...</td>\n",
       "      <td>₹449</td>\n",
       "      <td>79% off</td>\n",
       "    </tr>\n",
       "    <tr>\n",
       "      <th>22</th>\n",
       "      <td>Fastrack</td>\n",
       "      <td>Gradient, UV Protection Wayfarer Sunglasses (F...</td>\n",
       "      <td>₹629</td>\n",
       "      <td>21% off</td>\n",
       "    </tr>\n",
       "    <tr>\n",
       "      <th>23</th>\n",
       "      <td>Fastrack</td>\n",
       "      <td>UV Protection Wayfarer Sunglasses (57)</td>\n",
       "      <td>₹559</td>\n",
       "      <td>30% off</td>\n",
       "    </tr>\n",
       "    <tr>\n",
       "      <th>24</th>\n",
       "      <td>Fastrack</td>\n",
       "      <td>UV Protection, Polarized Wayfarer Sunglasses (56)</td>\n",
       "      <td>₹759</td>\n",
       "      <td>15% off</td>\n",
       "    </tr>\n",
       "    <tr>\n",
       "      <th>25</th>\n",
       "      <td>Fastrack</td>\n",
       "      <td>UV Protection Wayfarer Sunglasses (Free Size)</td>\n",
       "      <td>₹758</td>\n",
       "      <td>15% off</td>\n",
       "    </tr>\n",
       "    <tr>\n",
       "      <th>26</th>\n",
       "      <td>ROZZETTA CRAFT</td>\n",
       "      <td>Gradient, UV Protection Round Sunglasses (Free...</td>\n",
       "      <td>₹449</td>\n",
       "      <td>77% off</td>\n",
       "    </tr>\n",
       "    <tr>\n",
       "      <th>27</th>\n",
       "      <td>Fastrack</td>\n",
       "      <td>UV Protection Wayfarer Sunglasses (Free Size)</td>\n",
       "      <td>₹758</td>\n",
       "      <td>15% off</td>\n",
       "    </tr>\n",
       "    <tr>\n",
       "      <th>28</th>\n",
       "      <td>Silver Kartz</td>\n",
       "      <td>UV Protection Oval Sunglasses (56)</td>\n",
       "      <td>₹299</td>\n",
       "      <td>75% off</td>\n",
       "    </tr>\n",
       "    <tr>\n",
       "      <th>29</th>\n",
       "      <td>Singco India</td>\n",
       "      <td>UV Protection Aviator Sunglasses (Free Size)</td>\n",
       "      <td>₹339</td>\n",
       "      <td>71% off</td>\n",
       "    </tr>\n",
       "    <tr>\n",
       "      <th>30</th>\n",
       "      <td>ROYAL SON</td>\n",
       "      <td>UV Protection, Gradient Wayfarer Sunglasses (55)</td>\n",
       "      <td>₹217</td>\n",
       "      <td>78% off</td>\n",
       "    </tr>\n",
       "    <tr>\n",
       "      <th>31</th>\n",
       "      <td>PHENOMENAL</td>\n",
       "      <td>UV Protection Clubmaster Sunglasses (Free Size)</td>\n",
       "      <td>₹319</td>\n",
       "      <td>84% off</td>\n",
       "    </tr>\n",
       "    <tr>\n",
       "      <th>32</th>\n",
       "      <td>GANSTA</td>\n",
       "      <td>UV Protection, Mirrored Wayfarer Sunglasses (53)</td>\n",
       "      <td>₹199</td>\n",
       "      <td>80% off</td>\n",
       "    </tr>\n",
       "    <tr>\n",
       "      <th>33</th>\n",
       "      <td>Silver Kartz</td>\n",
       "      <td>UV Protection Wayfarer Sunglasses (Free Size)</td>\n",
       "      <td>₹259</td>\n",
       "      <td>82% off</td>\n",
       "    </tr>\n",
       "    <tr>\n",
       "      <th>34</th>\n",
       "      <td>Fastrack</td>\n",
       "      <td>UV Protection Aviator Sunglasses (58)</td>\n",
       "      <td>₹1,115</td>\n",
       "      <td>14% off</td>\n",
       "    </tr>\n",
       "    <tr>\n",
       "      <th>35</th>\n",
       "      <td>DEIXELS</td>\n",
       "      <td>UV Protection Aviator, Wayfarer Sunglasses (Fr...</td>\n",
       "      <td>₹213</td>\n",
       "      <td>82% off</td>\n",
       "    </tr>\n",
       "    <tr>\n",
       "      <th>36</th>\n",
       "      <td>Fastrack</td>\n",
       "      <td>UV Protection Wayfarer Sunglasses (Free Size)</td>\n",
       "      <td>₹627</td>\n",
       "      <td>21% off</td>\n",
       "    </tr>\n",
       "    <tr>\n",
       "      <th>37</th>\n",
       "      <td>ROYAL SON</td>\n",
       "      <td>Polarized, UV Protection Aviator Sunglasses (58)</td>\n",
       "      <td>₹711</td>\n",
       "      <td>64% off</td>\n",
       "    </tr>\n",
       "    <tr>\n",
       "      <th>38</th>\n",
       "      <td>Singco India</td>\n",
       "      <td>Mirrored, Riding Glasses, Others Sports Sungla...</td>\n",
       "      <td>₹249</td>\n",
       "      <td>83% off</td>\n",
       "    </tr>\n",
       "    <tr>\n",
       "      <th>39</th>\n",
       "      <td>GANSTA</td>\n",
       "      <td>UV Protection Aviator Sunglasses (57)</td>\n",
       "      <td>₹281</td>\n",
       "      <td>85% off</td>\n",
       "    </tr>\n",
       "  </tbody>\n",
       "</table>\n",
       "</div>"
      ],
      "text/plain": [
       "             brand                                            ratings   price  \\\n",
       "0         Fastrack   UV Protection Rectangular Sunglasses (Free Size)    ₹570   \n",
       "1         Fastrack      UV Protection Wayfarer Sunglasses (Free Size)    ₹733   \n",
       "2   ROZZETTA CRAFT  UV Protection Retro Square Sunglasses (Free Size)    ₹499   \n",
       "3           PIRASO       UV Protection Aviator Sunglasses (Free Size)    ₹349   \n",
       "4   ROZZETTA CRAFT  UV Protection, Gradient Rectangular Sunglasses...    ₹404   \n",
       "5         Fastrack              UV Protection Aviator Sunglasses (58)  ₹1,123   \n",
       "6         Fastrack       UV Protection Aviator Sunglasses (Free Size)    ₹674   \n",
       "7         Fastrack             UV Protection Wayfarer Sunglasses (56)    ₹759   \n",
       "8         Fastrack        UV Protection Shield Sunglasses (Free Size)    ₹759   \n",
       "9         Fastrack  Gradient, UV Protection Wayfarer Sunglasses (F...    ₹638   \n",
       "10           NuVew              UV Protection Aviator Sunglasses (58)    ₹215   \n",
       "11        Fastrack  Gradient, UV Protection Wayfarer Sunglasses (F...    ₹621   \n",
       "12  ROZZETTA CRAFT  UV Protection Retro Square Sunglasses (Free Size)    ₹499   \n",
       "13         DEIXELS         UV Protection Round Sunglasses (Free Size)    ₹209   \n",
       "14        Fastrack      UV Protection Wayfarer Sunglasses (Free Size)    ₹836   \n",
       "15          HIPPON             UV Protection Wayfarer Sunglasses (55)    ₹251   \n",
       "16            hipe                  Mirrored Wayfarer Sunglasses (55)    ₹219   \n",
       "17       ROYAL SON                   Mirrored Aviator Sunglasses (55)    ₹379   \n",
       "18       ROYAL SON             UV Protection Wayfarer Sunglasses (55)    ₹265   \n",
       "19  ROZZETTA CRAFT  UV Protection, Gradient Rectangular Sunglasses...    ₹499   \n",
       "20            hipe        UV Protection Sports Sunglasses (Free Size)    ₹319   \n",
       "21  ROZZETTA CRAFT  UV Protection, Riding Glasses Rectangular Sung...    ₹449   \n",
       "22        Fastrack  Gradient, UV Protection Wayfarer Sunglasses (F...    ₹629   \n",
       "23        Fastrack             UV Protection Wayfarer Sunglasses (57)    ₹559   \n",
       "24        Fastrack  UV Protection, Polarized Wayfarer Sunglasses (56)    ₹759   \n",
       "25        Fastrack      UV Protection Wayfarer Sunglasses (Free Size)    ₹758   \n",
       "26  ROZZETTA CRAFT  Gradient, UV Protection Round Sunglasses (Free...    ₹449   \n",
       "27        Fastrack      UV Protection Wayfarer Sunglasses (Free Size)    ₹758   \n",
       "28    Silver Kartz                 UV Protection Oval Sunglasses (56)    ₹299   \n",
       "29    Singco India       UV Protection Aviator Sunglasses (Free Size)    ₹339   \n",
       "30       ROYAL SON   UV Protection, Gradient Wayfarer Sunglasses (55)    ₹217   \n",
       "31      PHENOMENAL    UV Protection Clubmaster Sunglasses (Free Size)    ₹319   \n",
       "32          GANSTA   UV Protection, Mirrored Wayfarer Sunglasses (53)    ₹199   \n",
       "33    Silver Kartz      UV Protection Wayfarer Sunglasses (Free Size)    ₹259   \n",
       "34        Fastrack              UV Protection Aviator Sunglasses (58)  ₹1,115   \n",
       "35         DEIXELS  UV Protection Aviator, Wayfarer Sunglasses (Fr...    ₹213   \n",
       "36        Fastrack      UV Protection Wayfarer Sunglasses (Free Size)    ₹627   \n",
       "37       ROYAL SON   Polarized, UV Protection Aviator Sunglasses (58)    ₹711   \n",
       "38    Singco India  Mirrored, Riding Glasses, Others Sports Sungla...    ₹249   \n",
       "39          GANSTA              UV Protection Aviator Sunglasses (57)    ₹281   \n",
       "\n",
       "   discount  \n",
       "0   28% off  \n",
       "1   18% off  \n",
       "2   77% off  \n",
       "3   78% off  \n",
       "4   79% off  \n",
       "5   13% off  \n",
       "6   25% off  \n",
       "7   15% off  \n",
       "8   15% off  \n",
       "9   20% off  \n",
       "10  72% off  \n",
       "11  22% off  \n",
       "12  77% off  \n",
       "13  73% off  \n",
       "14   7% off  \n",
       "15  79% off  \n",
       "16  78% off  \n",
       "17  74% off  \n",
       "18  79% off  \n",
       "19  77% off  \n",
       "20  83% off  \n",
       "21  79% off  \n",
       "22  21% off  \n",
       "23  30% off  \n",
       "24  15% off  \n",
       "25  15% off  \n",
       "26  77% off  \n",
       "27  15% off  \n",
       "28  75% off  \n",
       "29  71% off  \n",
       "30  78% off  \n",
       "31  84% off  \n",
       "32  80% off  \n",
       "33  82% off  \n",
       "34  14% off  \n",
       "35  82% off  \n",
       "36  21% off  \n",
       "37  64% off  \n",
       "38  83% off  \n",
       "39  85% off  "
      ]
     },
     "execution_count": 183,
     "metadata": {},
     "output_type": "execute_result"
    }
   ],
   "source": [
    "products"
   ]
  },
  {
   "cell_type": "code",
   "execution_count": null,
   "metadata": {},
   "outputs": [],
   "source": []
  },
  {
   "cell_type": "code",
   "execution_count": null,
   "metadata": {},
   "outputs": [],
   "source": []
  },
  {
   "cell_type": "markdown",
   "metadata": {},
   "source": [
    "# Question 7: \n",
    "    Scrape 100 reviews data from flipkart.com for iphone11 phone. You have to go the link: https://www.flipkart.com/apple-iphone-11-black-64-gb-includes-earpods-power-adapter/p/itm0f37c2240b217?pid=MOBFKCTSVZAXUHGR&lid=LSTMOBFKCTSVZAXUHGREPBFGI&marketplace."
   ]
  },
  {
   "cell_type": "code",
   "execution_count": 153,
   "metadata": {},
   "outputs": [],
   "source": [
    "#connect to webdriver\n",
    "driver = webdriver.Chrome(r\"C:\\Users\\Neha Vishnudas Pai\\Downloads\\chromedriver.exe\")"
   ]
  },
  {
   "cell_type": "code",
   "execution_count": 154,
   "metadata": {},
   "outputs": [],
   "source": [
    "url = 'https://www.flipkart.com/apple-iphone-11-black-64-gb-includes-earpods-power-adapter/p/itm0f37c2240b217?pid=MOBFKCTSVZAXUHGR&lid=LSTMOBFKCTSVZAXUHGREPBFGI&marketplace/'\n",
    "driver.get(url)\n",
    "time.sleep(5)"
   ]
  },
  {
   "cell_type": "code",
   "execution_count": 155,
   "metadata": {},
   "outputs": [],
   "source": [
    "#do click using xpath function\n",
    "review_btn= driver.find_element_by_xpath(\"//div[@class='_3UAT2v _16PBlm']\")\n",
    "review_btn.click()"
   ]
  },
  {
   "cell_type": "code",
   "execution_count": 159,
   "metadata": {},
   "outputs": [],
   "source": [
    "#rating\n",
    "rating=driver.find_elements_by_xpath(\"//div[@class='_3LWZlK _1BLPMq']\")"
   ]
  },
  {
   "cell_type": "code",
   "execution_count": 160,
   "metadata": {},
   "outputs": [
    {
     "data": {
      "text/plain": [
       "['5', '5', '5', '5', '4', '5', '5', '5', '5', '5']"
      ]
     },
     "execution_count": 160,
     "metadata": {},
     "output_type": "execute_result"
    }
   ],
   "source": [
    "prod_rating =[]\n",
    "for i in rating[:100]:\n",
    "    prod_rating.append(i.text)\n",
    "prod_rating"
   ]
  },
  {
   "cell_type": "code",
   "execution_count": 161,
   "metadata": {},
   "outputs": [],
   "source": [
    "#review summary\n",
    "review=driver.find_elements_by_xpath(\"//p[@class='_2-N8zT']\")"
   ]
  },
  {
   "cell_type": "code",
   "execution_count": 162,
   "metadata": {},
   "outputs": [
    {
     "data": {
      "text/plain": [
       "['Brilliant',\n",
       " 'Perfect product!',\n",
       " 'Great product',\n",
       " 'Worth every penny',\n",
       " 'Good choice',\n",
       " 'Highly recommended',\n",
       " 'Perfect product!',\n",
       " 'Fabulous!',\n",
       " 'Perfect product!',\n",
       " 'Worth every penny']"
      ]
     },
     "execution_count": 162,
     "metadata": {},
     "output_type": "execute_result"
    }
   ],
   "source": [
    "review_sum =[]\n",
    "for i in review[:100]:\n",
    "    review_sum.append(i.text)\n",
    "review_sum"
   ]
  },
  {
   "cell_type": "code",
   "execution_count": 163,
   "metadata": {},
   "outputs": [],
   "source": [
    "#full review"
   ]
  },
  {
   "cell_type": "code",
   "execution_count": 164,
   "metadata": {},
   "outputs": [],
   "source": [
    "full=driver.find_elements_by_xpath(\"//div[@class='t-ZTKy']\")"
   ]
  },
  {
   "cell_type": "code",
   "execution_count": 165,
   "metadata": {},
   "outputs": [
    {
     "data": {
      "text/plain": [
       "['The Best Phone for the Money\\n\\nThe iPhone 11 offers superb cameras, a more durable design and excellent battery life for an affordable price.\\n\\nCompelling ultra-wide camera\\nNew Night mode is excellent\\nLong battery life',\n",
       " 'Amazing phone with great cameras and better battery which gives you the best performance. I just love the camera .',\n",
       " 'Amazing Powerful and Durable Gadget.\\n\\nI’m am very happy with the camera picture quality, Amazing face id unlocked in dark room, Strong battery with perfect screen size as you can carry easily in pocket. This is my third iPhone.\\n\\nI shifted from android Samsung Note series to iPhone because of the strong build quality and peace of mind for next 3-4 years.\\n\\nDon’t think to much just go for it and I suggest you to go for minimum 128gb variant or more 256gb.\\n\\nI’ve attached my puppy pics and no fi...\\nREAD MORE',\n",
       " 'Previously I was using one plus 3t it was a great phone\\nAnd then I decided to upgrade I am stuck between Samsung s10 plus or iPhone 11\\nI have seen the specs and everything were good except the display it’s somewhere between 720-1080 and it’s not even an amoled it’s an LCD display\\nBut I decided to go with iPhone because I have never used an IOS device I have Been an android user from the past 9 years I ordered IPhone 11 (128gb) product red\\nMy experience after using 3 weeks\\n1. The delivery ...\\nREAD MORE',\n",
       " 'So far it’s been an AMAZING experience coming back to iOS after nearly a decade but it’s not as versatile as android though phone is sturdy dropped it accidentally a couple of times and nothing happened fortunately camera is awesome',\n",
       " 'iphone 11 is a very good phone to buy only if you can compromise for the display. The display on this is device is pretty good but you can get other options with better displays in this price segment.\\nIf you can survive with an HD+ LCD panel with thicker bezels and a notch up top then this is a very good phone for you.\\nCameras are awesome, battery backup excellent, great performance and a decent premium look. Good job Apple !',\n",
       " 'It’s a must buy who is looking for an upgrade from previous generation of iPhones. If you are using XR then still you can hold on for sometime and upgrade to 2020 model else this phone is a must buy . Camera quality is amazing and wide angle is something to count upon. Performance wise it’s amazing and feels premium while holding in hand. So a big YES for this device. Go for 128 GB variant as the 4K videos will occupy lots of space and the storage can get over very quickly. Try to buy it with...\\nREAD MORE',\n",
       " 'This is my first iOS phone. I am very happy with this product. Very much satisfied with this. I love this phone.',\n",
       " 'Value for money❤️❤️\\nIts awesome mobile phone in the world ...\\nDisplay was very good and bright ..\\nTrust me freinds you r never regret after Buying..\\nJust go for it....\\nI love this phone and i switch to iphone x to 11',\n",
       " 'Best budget Iphone till date ❤️ go for it guys without second thought. Let me explain you guys about Camera, Display, battery, and performance.\\n\\nCamera: at this price range there is no comparison of camera, you’ll love the picture quality as well as video quality. I am a Vlogger I wanted an iPhone with 4k video by front camera and I got this phone and I am more than happy 😃\\n\\nBattery: I use this phone roughly as I am active social media person and I have a youtube channel. so the battery ba...\\nREAD MORE']"
      ]
     },
     "execution_count": 165,
     "metadata": {},
     "output_type": "execute_result"
    }
   ],
   "source": [
    "full_rev =[]\n",
    "for i in full[:100]:\n",
    "    full_rev.append(i.text)\n",
    "full_rev"
   ]
  },
  {
   "cell_type": "code",
   "execution_count": 167,
   "metadata": {},
   "outputs": [
    {
     "name": "stdout",
     "output_type": "stream",
     "text": [
      "10 10 10\n"
     ]
    }
   ],
   "source": [
    "print(len(prod_rating), len(review_sum), len(full_rev))"
   ]
  },
  {
   "cell_type": "code",
   "execution_count": null,
   "metadata": {},
   "outputs": [],
   "source": [
    "import pandas as pd\n",
    "\n",
    "products=pd.DataFrame({})\n",
    "products['brand']=prod_brand\n",
    "products['ratings']=prod_desc\n",
    "products['price']=prod_price\n",
    "products['discount']=prod_disc"
   ]
  },
  {
   "cell_type": "code",
   "execution_count": null,
   "metadata": {},
   "outputs": [],
   "source": []
  },
  {
   "cell_type": "code",
   "execution_count": null,
   "metadata": {},
   "outputs": [],
   "source": []
  },
  {
   "cell_type": "markdown",
   "metadata": {},
   "source": [
    "# Question 8: \n",
    "    Scrape data for first 100 sneakers you find when you visit flipkart.com and search for “sneakers” in the search field."
   ]
  },
  {
   "cell_type": "code",
   "execution_count": 136,
   "metadata": {},
   "outputs": [],
   "source": [
    "#connect to webdriver\n",
    "driver = webdriver.Chrome(r\"C:\\Users\\Neha Vishnudas Pai\\Downloads\\chromedriver.exe\")"
   ]
  },
  {
   "cell_type": "code",
   "execution_count": 137,
   "metadata": {},
   "outputs": [],
   "source": [
    "url = 'https://www.flipkart.com/'\n",
    "driver.get(url)\n",
    "time.sleep(5)"
   ]
  },
  {
   "cell_type": "code",
   "execution_count": 138,
   "metadata": {},
   "outputs": [
    {
     "data": {
      "text/plain": [
       "<selenium.webdriver.remote.webelement.WebElement (session=\"472397a546dfc41fcf5bacaaf32d03e6\", element=\"1165c803-0ecf-4268-8303-2fdbe4643515\")>"
      ]
     },
     "execution_count": 138,
     "metadata": {},
     "output_type": "execute_result"
    }
   ],
   "source": [
    "#finding element for job search bar\n",
    "search_bar = driver.find_element_by_xpath(\"//input[@class='_3704LK']\")\n",
    "search_bar"
   ]
  },
  {
   "cell_type": "code",
   "execution_count": 139,
   "metadata": {},
   "outputs": [],
   "source": [
    "#write on search bar\n",
    "search_bar.send_keys(\"sneakers\")"
   ]
  },
  {
   "cell_type": "code",
   "execution_count": 141,
   "metadata": {},
   "outputs": [],
   "source": [
    "#do click using xpath function\n",
    "search_btn= driver.find_element_by_xpath(\"//button[@class='L0Z3Pu']\")\n",
    "search_btn.click()\n",
    "time.sleep(5)"
   ]
  },
  {
   "cell_type": "code",
   "execution_count": 142,
   "metadata": {},
   "outputs": [],
   "source": [
    "#brand\n",
    "brand=driver.find_elements_by_xpath(\"//div[@class='_2WkVRV']\")"
   ]
  },
  {
   "cell_type": "code",
   "execution_count": 143,
   "metadata": {},
   "outputs": [
    {
     "data": {
      "text/plain": [
       "['BRUTON',\n",
       " 'DUCATI',\n",
       " 'Robbie jones',\n",
       " 'Shoes Bank',\n",
       " 'ORICUM',\n",
       " 'HOTSTYLE',\n",
       " 'Robbie jones',\n",
       " 'Numenzo',\n",
       " 'SPARX',\n",
       " 'BRUTON',\n",
       " 'aadi',\n",
       " 'Kraasa',\n",
       " 'Wika',\n",
       " 'World Wear Footwear',\n",
       " 'Stefano Rads',\n",
       " '\"trend\"',\n",
       " 'believe',\n",
       " 'SCATCHITE',\n",
       " 'Kraasa',\n",
       " 'BigForest',\n",
       " 'bluemaker',\n",
       " 'T-ROCK',\n",
       " 'VIPSJAZZY',\n",
       " 'DUCATI',\n",
       " 'Axter',\n",
       " 'SPARX',\n",
       " 'Birde',\n",
       " 'Robbie jones',\n",
       " '3SIX5',\n",
       " 'CROWN LOUIS',\n",
       " 'SPARX',\n",
       " 'SPARX',\n",
       " 'World Wear Footwear',\n",
       " 'DUCATI',\n",
       " 'Magnolia',\n",
       " 'SPARX',\n",
       " 'PUMA',\n",
       " 'Raftar',\n",
       " 'PUMA',\n",
       " 'DUCATI']"
      ]
     },
     "execution_count": 143,
     "metadata": {},
     "output_type": "execute_result"
    }
   ],
   "source": [
    "prod_brand =[]\n",
    "for i in brand[:100]:\n",
    "    prod_brand.append(i.text)\n",
    "prod_brand"
   ]
  },
  {
   "cell_type": "code",
   "execution_count": 144,
   "metadata": {},
   "outputs": [],
   "source": [
    "#shoe desc\n",
    "desc=driver.find_elements_by_xpath(\"//a[@class='IRpwTa']\")"
   ]
  },
  {
   "cell_type": "code",
   "execution_count": 145,
   "metadata": {},
   "outputs": [
    {
     "data": {
      "text/plain": [
       "['Combo Pack of 2 Casual Sneakers For Men',\n",
       " 'Sneakers For Men',\n",
       " 'Casual Sneakers Shoes For Men Sneakers For Men',\n",
       " \"White Sneaker For Men's/Boy's Sneakers For Men\",\n",
       " 'Combo pack of 2 casual sneaker shoes for men Sneakers F...',\n",
       " 'Sneakers Sneakers For Men',\n",
       " 'Sneakers For Men',\n",
       " 'Sneakers For Men',\n",
       " 'SM-439 Sneakers For Men',\n",
       " 'Combo Pack Of 4 Canvas Sneakers For Men',\n",
       " 'Sneakers For Men',\n",
       " 'Series 7 Sneakers For Men',\n",
       " 'Sneakers For Men',\n",
       " 'Combo Pack of 2 Top Rated, Best Rates Training Shoes, W...',\n",
       " 'Fashionable casual sneakers shoes for men Sneakers For ...',\n",
       " 'Sneakers for men(black_6) Sneakers For Men',\n",
       " 'Sneakers Sneakers For Men',\n",
       " 'Casuals, Canvas, Partywear Sneakers For Men',\n",
       " 'DOLLER Sneakers For Men',\n",
       " 'casual for men (blue 06) Sneakers For Men',\n",
       " 'Synthetic Leather Casual Partywear Wedding Sneakers Sho...',\n",
       " 'Sneakers For Men',\n",
       " 'Combo Pack of 2 Latest Collection Stylish Casual Loafer...',\n",
       " 'SM-322 Sneakers For Men',\n",
       " 'Combo Pack of 4 Casual Shoes Sneakers For Men',\n",
       " 'Casual Sneakers Black Shoes For Men Sneakers For Men',\n",
       " 'ORIFWSH(OR)-1077 Sneakers For Men',\n",
       " 'SM-482 Sneakers For Men',\n",
       " 'SM-162 Sneakers For Men',\n",
       " 'Combo Pack of 4 Latest Collection Stylish Casual Loafer...',\n",
       " 'Sneakers For Men',\n",
       " 'White Sneakers Sneakers For Men',\n",
       " 'SD-323 Sneakers For Men',\n",
       " 'Anzarun Lite Sneakers For Men',\n",
       " 'Sneakers For Men',\n",
       " 'Sneakers For Men',\n",
       " 'Sneakers For Men']"
      ]
     },
     "execution_count": 145,
     "metadata": {},
     "output_type": "execute_result"
    }
   ],
   "source": [
    "prod_desc =[]\n",
    "for i in desc[:100]:\n",
    "    prod_desc.append(i.text)\n",
    "prod_desc"
   ]
  },
  {
   "cell_type": "code",
   "execution_count": 146,
   "metadata": {},
   "outputs": [],
   "source": [
    "#price\n",
    "price=driver.find_elements_by_xpath(\"//div[@class='_30jeq3']\")"
   ]
  },
  {
   "cell_type": "code",
   "execution_count": 147,
   "metadata": {},
   "outputs": [
    {
     "data": {
      "text/plain": [
       "['₹404',\n",
       " '₹1,924',\n",
       " '₹379',\n",
       " '₹349',\n",
       " '₹377',\n",
       " '₹283',\n",
       " '₹474',\n",
       " '₹399',\n",
       " '₹699',\n",
       " '₹499',\n",
       " '₹298',\n",
       " '₹416',\n",
       " '₹449',\n",
       " '₹498',\n",
       " '₹242',\n",
       " '₹426',\n",
       " '₹423',\n",
       " '₹398',\n",
       " '₹416',\n",
       " '₹499',\n",
       " '₹474',\n",
       " '₹378',\n",
       " '₹419',\n",
       " '₹1,199',\n",
       " '₹269',\n",
       " '₹769',\n",
       " '₹757',\n",
       " '₹428',\n",
       " '₹214',\n",
       " '₹429',\n",
       " '₹965',\n",
       " '₹730',\n",
       " '₹449',\n",
       " '₹1,461',\n",
       " '₹305',\n",
       " '₹632',\n",
       " '₹1,975',\n",
       " '₹360',\n",
       " '₹1,035',\n",
       " '₹1,987']"
      ]
     },
     "execution_count": 147,
     "metadata": {},
     "output_type": "execute_result"
    }
   ],
   "source": [
    "prod_price =[]\n",
    "for i in price[:100]:\n",
    "    prod_price.append(i.text)\n",
    "prod_price"
   ]
  },
  {
   "cell_type": "code",
   "execution_count": 148,
   "metadata": {},
   "outputs": [],
   "source": [
    "#discount\n",
    "discount=driver.find_elements_by_xpath(\"//div[@class='_3Ay6Sb']//span\")"
   ]
  },
  {
   "cell_type": "code",
   "execution_count": 149,
   "metadata": {},
   "outputs": [
    {
     "data": {
      "text/plain": [
       "['83% off',\n",
       " '47% off',\n",
       " '62% off',\n",
       " '65% off',\n",
       " '62% off',\n",
       " '43% off',\n",
       " '52% off',\n",
       " '60% off',\n",
       " '85% off',\n",
       " '70% off',\n",
       " '58% off',\n",
       " '55% off',\n",
       " '50% off',\n",
       " '65% off',\n",
       " '78% off',\n",
       " '57% off',\n",
       " '60% off',\n",
       " '58% off',\n",
       " '50% off',\n",
       " '52% off',\n",
       " '62% off',\n",
       " '58% off',\n",
       " '67% off',\n",
       " '80% off',\n",
       " '23% off',\n",
       " '62% off',\n",
       " '57% off',\n",
       " '57% off',\n",
       " '57% off',\n",
       " '28% off',\n",
       " '23% off',\n",
       " '82% off',\n",
       " '59% off',\n",
       " '69% off',\n",
       " '15% off',\n",
       " '34% off',\n",
       " '63% off',\n",
       " '63% off',\n",
       " '44% off']"
      ]
     },
     "execution_count": 149,
     "metadata": {},
     "output_type": "execute_result"
    }
   ],
   "source": [
    "prod_disc =[]\n",
    "for i in discount[:100]:\n",
    "    prod_disc.append(i.text)\n",
    "prod_disc"
   ]
  },
  {
   "cell_type": "code",
   "execution_count": null,
   "metadata": {},
   "outputs": [],
   "source": [
    "print(len(prod_brand), len(prod_desc), len(prod_price), len(prod_disc))"
   ]
  },
  {
   "cell_type": "code",
   "execution_count": null,
   "metadata": {},
   "outputs": [],
   "source": [
    "import pandas as pd\n",
    "\n",
    "products=pd.DataFrame({})\n",
    "products['brand']=prod_brand\n",
    "products['ratings']=prod_desc\n",
    "products['price']=prod_price\n",
    "products['discount']=prod_disc"
   ]
  },
  {
   "cell_type": "code",
   "execution_count": null,
   "metadata": {},
   "outputs": [],
   "source": [
    "products"
   ]
  },
  {
   "cell_type": "code",
   "execution_count": null,
   "metadata": {},
   "outputs": [],
   "source": []
  },
  {
   "cell_type": "markdown",
   "metadata": {},
   "source": [
    "# Question 9: \n",
    "    Go to the link - https://www.myntra.com/shoes Set Price filter to “Rs. 6649 to Rs. 13099” , Color filter to “Black”, as shown in the below image"
   ]
  },
  {
   "cell_type": "code",
   "execution_count": 121,
   "metadata": {},
   "outputs": [],
   "source": [
    "#connect to webdriver\n",
    "driver = webdriver.Chrome(r\"C:\\Users\\Neha Vishnudas Pai\\Downloads\\chromedriver.exe\")"
   ]
  },
  {
   "cell_type": "code",
   "execution_count": 122,
   "metadata": {},
   "outputs": [],
   "source": [
    "url = 'https://www.myntra.com/shoes'\n",
    "driver.get(url)\n",
    "time.sleep(5)"
   ]
  },
  {
   "cell_type": "code",
   "execution_count": 124,
   "metadata": {},
   "outputs": [],
   "source": [
    "#do click using xpath function\n",
    "price_filter= driver.find_elements_by_xpath(\"//label[@class='common-customCheckbox vertical-filters-label']\")[7]\n",
    "price_filter.click()"
   ]
  },
  {
   "cell_type": "code",
   "execution_count": 125,
   "metadata": {},
   "outputs": [],
   "source": [
    "#do click using xpath function\n",
    "color= driver.find_elements_by_xpath(\"//span[@class='colour-label colour-colorDisplay']\")[0]\n",
    "color.click()"
   ]
  },
  {
   "cell_type": "code",
   "execution_count": 126,
   "metadata": {},
   "outputs": [],
   "source": [
    "#brand\n",
    "brand=driver.find_elements_by_xpath(\"//h3[@class='product-brand']\")"
   ]
  },
  {
   "cell_type": "code",
   "execution_count": 127,
   "metadata": {},
   "outputs": [
    {
     "data": {
      "text/plain": [
       "['Nike',\n",
       " 'Nike',\n",
       " 'Nike',\n",
       " 'Nike',\n",
       " 'Puma',\n",
       " 'Puma',\n",
       " 'ALDO',\n",
       " 'Nike',\n",
       " 'ALDO',\n",
       " 'Nike',\n",
       " 'Nike',\n",
       " 'Nike',\n",
       " 'UNDER ARMOUR',\n",
       " 'UNDER ARMOUR',\n",
       " 'UNDER ARMOUR',\n",
       " 'Puma',\n",
       " 'Nike',\n",
       " 'UNDER ARMOUR',\n",
       " 'Saint G',\n",
       " 'ASICS',\n",
       " 'UNDER ARMOUR',\n",
       " 'Hush Puppies',\n",
       " 'Puma',\n",
       " 'UNDER ARMOUR',\n",
       " 'Puma',\n",
       " 'UNDER ARMOUR',\n",
       " 'UNDER ARMOUR',\n",
       " 'Onitsuka Tiger',\n",
       " 'FILA',\n",
       " 'UNDER ARMOUR',\n",
       " 'Nike',\n",
       " 'Saint G',\n",
       " 'UNDER ARMOUR',\n",
       " 'Puma',\n",
       " 'UNDER ARMOUR',\n",
       " 'Skechers',\n",
       " 'Cole Haan',\n",
       " 'Hush Puppies',\n",
       " 'ASICS',\n",
       " 'Ruosh',\n",
       " 'Puma',\n",
       " 'Puma',\n",
       " 'Heel & Buckle London',\n",
       " 'UNDER ARMOUR',\n",
       " 'Puma',\n",
       " 'UNDER ARMOUR',\n",
       " 'UNDER ARMOUR',\n",
       " 'Bugatti',\n",
       " 'Ruosh',\n",
       " 'Reebok']"
      ]
     },
     "execution_count": 127,
     "metadata": {},
     "output_type": "execute_result"
    }
   ],
   "source": [
    "prod_brand =[]\n",
    "for i in brand[:100]:\n",
    "    prod_brand.append(i.text)\n",
    "prod_brand"
   ]
  },
  {
   "cell_type": "code",
   "execution_count": 128,
   "metadata": {},
   "outputs": [],
   "source": [
    "#shoe desc\n",
    "desc=driver.find_elements_by_xpath(\"//h4[@class='product-product']\")"
   ]
  },
  {
   "cell_type": "code",
   "execution_count": 129,
   "metadata": {},
   "outputs": [
    {
     "data": {
      "text/plain": [
       "['Men JOYRIDE Running Shoes',\n",
       " 'Women REACT Running Shoes',\n",
       " 'AIR ZOOM PEGASUS Running Shoes',\n",
       " 'Men KD13 EP Basketball Shoes',\n",
       " 'Women Liberate Nitro Running',\n",
       " 'Men UltraRide Running Shoes',\n",
       " 'Men Sneakers',\n",
       " 'Men JORDAN DELTA Basketball',\n",
       " 'Men Textured Sneakers',\n",
       " 'Men REACT MILER Running Shoes',\n",
       " 'Men AIR ZOOM Running Shoes',\n",
       " 'Women PEGASUS 37 Running Shoes',\n",
       " 'Men HOVR Strt Walking Shoes',\n",
       " 'Men Liquify Running Shoes',\n",
       " 'HOVR Sonic 3 Running Shoes',\n",
       " 'Men SPEED 500 2 Running Shoes',\n",
       " 'Women AIR MAX VIVA Sneakers',\n",
       " 'Charged Rogue 2 Wide 2E Shoes',\n",
       " 'Men Leather Chelsea Boots',\n",
       " 'Men Black Sports Shoes',\n",
       " 'Charged Impulse Running Shoes',\n",
       " 'Men Solid Leather Formal Slip-Ons',\n",
       " 'Women Eternity Nitro Running',\n",
       " 'HOVR Infinite 2 Running Shoes',\n",
       " 'Men Velocity Nitro Running',\n",
       " 'Men HOVR Guardian Shoes',\n",
       " 'Women Liquify Rebel Running',\n",
       " 'Unisex Mexico 66 Paraty Sneakers',\n",
       " 'Men Running Shoes',\n",
       " 'Women Charged Breathe TR 2',\n",
       " 'Men JORDAN DELTA Sneakers',\n",
       " 'Men Textured Leather Formal Loafers',\n",
       " 'Men Charged Will Sneakers',\n",
       " 'Women Provoke XT Training',\n",
       " 'Women Charged Breathe OIL SLK',\n",
       " \"Women D'LITES 3.0 Sneakers\",\n",
       " 'Women Woven Design Sneakers',\n",
       " 'Men Formal Derbys',\n",
       " 'Men Running Shoes',\n",
       " 'Men Solid Leather Formal Derbys',\n",
       " 'Men FUTURE Z 3.1Football Shoes',\n",
       " 'Future Rider Twofold Sneakers',\n",
       " 'Men Leather Formal Oxfords',\n",
       " 'Women HOVR Rise 2 Training',\n",
       " 'Unisex RS-X Pop Sneakers',\n",
       " 'Women TriBase Reign 2 Training',\n",
       " 'HOVR Sonic 3 Running Shoes',\n",
       " 'Women Mules',\n",
       " 'Men Formal Brogues',\n",
       " 'Forever Floatride Energy 2']"
      ]
     },
     "execution_count": 129,
     "metadata": {},
     "output_type": "execute_result"
    }
   ],
   "source": [
    "prod_desc =[]\n",
    "for i in desc[:100]:\n",
    "    prod_desc.append(i.text)\n",
    "prod_desc"
   ]
  },
  {
   "cell_type": "code",
   "execution_count": 130,
   "metadata": {},
   "outputs": [],
   "source": [
    "#price\n",
    "price=driver.find_elements_by_xpath(\"//div[@class='product-price']\")"
   ]
  },
  {
   "cell_type": "code",
   "execution_count": 131,
   "metadata": {},
   "outputs": [
    {
     "data": {
      "text/plain": [
       "['Rs. 11246Rs. 14995(25% OFF)',\n",
       " 'Rs. 8396Rs. 11995(30% OFF)',\n",
       " 'Rs. 11495',\n",
       " 'Rs. 12995',\n",
       " 'Rs. 7999Rs. 9999(20% OFF)',\n",
       " 'Rs. 7649Rs. 8999(15% OFF)',\n",
       " 'Rs. 9999',\n",
       " 'Rs. 12495',\n",
       " 'Rs. 7199Rs. 8999(20% OFF)',\n",
       " 'Rs. 8796Rs. 10995(20% OFF)',\n",
       " 'Rs. 7721Rs. 10295(25% OFF)',\n",
       " 'Rs. 7496Rs. 9995(25% OFF)',\n",
       " 'Rs. 9999',\n",
       " 'Rs. 10999',\n",
       " 'Rs. 10999',\n",
       " 'Rs. 6999Rs. 9999(30% OFF)',\n",
       " 'Rs. 12495',\n",
       " 'Rs. 7999',\n",
       " 'Rs. 11305Rs. 11900(5% OFF)',\n",
       " 'Rs. 6999Rs. 9999(30% OFF)',\n",
       " 'Rs. 7999',\n",
       " 'Rs. 8999',\n",
       " 'Rs. 12999',\n",
       " 'Rs. 11999',\n",
       " 'Rs. 10999',\n",
       " 'Rs. 10199Rs. 11999(15% OFF)',\n",
       " 'Rs. 8999',\n",
       " 'Rs. 6999',\n",
       " 'Rs. 8499',\n",
       " 'Rs. 7999',\n",
       " 'Rs. 10995',\n",
       " 'Rs. 9975Rs. 10500(5% OFF)',\n",
       " 'Rs. 7224Rs. 8499(15% OFF)',\n",
       " 'Rs. 7999',\n",
       " 'Rs. 8999',\n",
       " 'Rs. 6999',\n",
       " 'Rs. 6749Rs. 14999(55% OFF)',\n",
       " 'Rs. 9999',\n",
       " 'Rs. 6999Rs. 9999(30% OFF)',\n",
       " 'Rs. 8990',\n",
       " 'Rs. 7199Rs. 7999(10% OFF)',\n",
       " 'Rs. 6999',\n",
       " 'Rs. 7693Rs. 10990(30% OFF)',\n",
       " 'Rs. 9999',\n",
       " 'Rs. 8499Rs. 9999(15% OFF)',\n",
       " 'Rs. 11999',\n",
       " 'Rs. 10999',\n",
       " 'Rs. 7499',\n",
       " 'Rs. 6990',\n",
       " 'Rs. 9999']"
      ]
     },
     "execution_count": 131,
     "metadata": {},
     "output_type": "execute_result"
    }
   ],
   "source": [
    "prod_price =[]\n",
    "for i in price[:100]:\n",
    "    prod_price.append(i.text)\n",
    "prod_price"
   ]
  },
  {
   "cell_type": "code",
   "execution_count": 132,
   "metadata": {},
   "outputs": [
    {
     "name": "stdout",
     "output_type": "stream",
     "text": [
      "50 50 50\n"
     ]
    }
   ],
   "source": [
    "print(len(prod_brand), len(prod_desc), len(prod_price))"
   ]
  },
  {
   "cell_type": "code",
   "execution_count": 134,
   "metadata": {},
   "outputs": [],
   "source": [
    "import pandas as pd\n",
    "\n",
    "products=pd.DataFrame({})\n",
    "products['brand']=prod_brand\n",
    "products['ratings']=prod_desc\n",
    "products['price']=prod_price"
   ]
  },
  {
   "cell_type": "code",
   "execution_count": 135,
   "metadata": {},
   "outputs": [
    {
     "data": {
      "text/html": [
       "<div>\n",
       "<style scoped>\n",
       "    .dataframe tbody tr th:only-of-type {\n",
       "        vertical-align: middle;\n",
       "    }\n",
       "\n",
       "    .dataframe tbody tr th {\n",
       "        vertical-align: top;\n",
       "    }\n",
       "\n",
       "    .dataframe thead th {\n",
       "        text-align: right;\n",
       "    }\n",
       "</style>\n",
       "<table border=\"1\" class=\"dataframe\">\n",
       "  <thead>\n",
       "    <tr style=\"text-align: right;\">\n",
       "      <th></th>\n",
       "      <th>brand</th>\n",
       "      <th>ratings</th>\n",
       "      <th>price</th>\n",
       "    </tr>\n",
       "  </thead>\n",
       "  <tbody>\n",
       "    <tr>\n",
       "      <th>0</th>\n",
       "      <td>Nike</td>\n",
       "      <td>Men JOYRIDE Running Shoes</td>\n",
       "      <td>Rs. 11246Rs. 14995(25% OFF)</td>\n",
       "    </tr>\n",
       "    <tr>\n",
       "      <th>1</th>\n",
       "      <td>Nike</td>\n",
       "      <td>Women REACT Running Shoes</td>\n",
       "      <td>Rs. 8396Rs. 11995(30% OFF)</td>\n",
       "    </tr>\n",
       "    <tr>\n",
       "      <th>2</th>\n",
       "      <td>Nike</td>\n",
       "      <td>AIR ZOOM PEGASUS Running Shoes</td>\n",
       "      <td>Rs. 11495</td>\n",
       "    </tr>\n",
       "    <tr>\n",
       "      <th>3</th>\n",
       "      <td>Nike</td>\n",
       "      <td>Men KD13 EP Basketball Shoes</td>\n",
       "      <td>Rs. 12995</td>\n",
       "    </tr>\n",
       "    <tr>\n",
       "      <th>4</th>\n",
       "      <td>Puma</td>\n",
       "      <td>Women Liberate Nitro Running</td>\n",
       "      <td>Rs. 7999Rs. 9999(20% OFF)</td>\n",
       "    </tr>\n",
       "    <tr>\n",
       "      <th>5</th>\n",
       "      <td>Puma</td>\n",
       "      <td>Men UltraRide Running Shoes</td>\n",
       "      <td>Rs. 7649Rs. 8999(15% OFF)</td>\n",
       "    </tr>\n",
       "    <tr>\n",
       "      <th>6</th>\n",
       "      <td>ALDO</td>\n",
       "      <td>Men Sneakers</td>\n",
       "      <td>Rs. 9999</td>\n",
       "    </tr>\n",
       "    <tr>\n",
       "      <th>7</th>\n",
       "      <td>Nike</td>\n",
       "      <td>Men JORDAN DELTA Basketball</td>\n",
       "      <td>Rs. 12495</td>\n",
       "    </tr>\n",
       "    <tr>\n",
       "      <th>8</th>\n",
       "      <td>ALDO</td>\n",
       "      <td>Men Textured Sneakers</td>\n",
       "      <td>Rs. 7199Rs. 8999(20% OFF)</td>\n",
       "    </tr>\n",
       "    <tr>\n",
       "      <th>9</th>\n",
       "      <td>Nike</td>\n",
       "      <td>Men REACT MILER Running Shoes</td>\n",
       "      <td>Rs. 8796Rs. 10995(20% OFF)</td>\n",
       "    </tr>\n",
       "    <tr>\n",
       "      <th>10</th>\n",
       "      <td>Nike</td>\n",
       "      <td>Men AIR ZOOM Running Shoes</td>\n",
       "      <td>Rs. 7721Rs. 10295(25% OFF)</td>\n",
       "    </tr>\n",
       "    <tr>\n",
       "      <th>11</th>\n",
       "      <td>Nike</td>\n",
       "      <td>Women PEGASUS 37 Running Shoes</td>\n",
       "      <td>Rs. 7496Rs. 9995(25% OFF)</td>\n",
       "    </tr>\n",
       "    <tr>\n",
       "      <th>12</th>\n",
       "      <td>UNDER ARMOUR</td>\n",
       "      <td>Men HOVR Strt Walking Shoes</td>\n",
       "      <td>Rs. 9999</td>\n",
       "    </tr>\n",
       "    <tr>\n",
       "      <th>13</th>\n",
       "      <td>UNDER ARMOUR</td>\n",
       "      <td>Men Liquify Running Shoes</td>\n",
       "      <td>Rs. 10999</td>\n",
       "    </tr>\n",
       "    <tr>\n",
       "      <th>14</th>\n",
       "      <td>UNDER ARMOUR</td>\n",
       "      <td>HOVR Sonic 3 Running Shoes</td>\n",
       "      <td>Rs. 10999</td>\n",
       "    </tr>\n",
       "    <tr>\n",
       "      <th>15</th>\n",
       "      <td>Puma</td>\n",
       "      <td>Men SPEED 500 2 Running Shoes</td>\n",
       "      <td>Rs. 6999Rs. 9999(30% OFF)</td>\n",
       "    </tr>\n",
       "    <tr>\n",
       "      <th>16</th>\n",
       "      <td>Nike</td>\n",
       "      <td>Women AIR MAX VIVA Sneakers</td>\n",
       "      <td>Rs. 12495</td>\n",
       "    </tr>\n",
       "    <tr>\n",
       "      <th>17</th>\n",
       "      <td>UNDER ARMOUR</td>\n",
       "      <td>Charged Rogue 2 Wide 2E Shoes</td>\n",
       "      <td>Rs. 7999</td>\n",
       "    </tr>\n",
       "    <tr>\n",
       "      <th>18</th>\n",
       "      <td>Saint G</td>\n",
       "      <td>Men Leather Chelsea Boots</td>\n",
       "      <td>Rs. 11305Rs. 11900(5% OFF)</td>\n",
       "    </tr>\n",
       "    <tr>\n",
       "      <th>19</th>\n",
       "      <td>ASICS</td>\n",
       "      <td>Men Black Sports Shoes</td>\n",
       "      <td>Rs. 6999Rs. 9999(30% OFF)</td>\n",
       "    </tr>\n",
       "    <tr>\n",
       "      <th>20</th>\n",
       "      <td>UNDER ARMOUR</td>\n",
       "      <td>Charged Impulse Running Shoes</td>\n",
       "      <td>Rs. 7999</td>\n",
       "    </tr>\n",
       "    <tr>\n",
       "      <th>21</th>\n",
       "      <td>Hush Puppies</td>\n",
       "      <td>Men Solid Leather Formal Slip-Ons</td>\n",
       "      <td>Rs. 8999</td>\n",
       "    </tr>\n",
       "    <tr>\n",
       "      <th>22</th>\n",
       "      <td>Puma</td>\n",
       "      <td>Women Eternity Nitro Running</td>\n",
       "      <td>Rs. 12999</td>\n",
       "    </tr>\n",
       "    <tr>\n",
       "      <th>23</th>\n",
       "      <td>UNDER ARMOUR</td>\n",
       "      <td>HOVR Infinite 2 Running Shoes</td>\n",
       "      <td>Rs. 11999</td>\n",
       "    </tr>\n",
       "    <tr>\n",
       "      <th>24</th>\n",
       "      <td>Puma</td>\n",
       "      <td>Men Velocity Nitro Running</td>\n",
       "      <td>Rs. 10999</td>\n",
       "    </tr>\n",
       "    <tr>\n",
       "      <th>25</th>\n",
       "      <td>UNDER ARMOUR</td>\n",
       "      <td>Men HOVR Guardian Shoes</td>\n",
       "      <td>Rs. 10199Rs. 11999(15% OFF)</td>\n",
       "    </tr>\n",
       "    <tr>\n",
       "      <th>26</th>\n",
       "      <td>UNDER ARMOUR</td>\n",
       "      <td>Women Liquify Rebel Running</td>\n",
       "      <td>Rs. 8999</td>\n",
       "    </tr>\n",
       "    <tr>\n",
       "      <th>27</th>\n",
       "      <td>Onitsuka Tiger</td>\n",
       "      <td>Unisex Mexico 66 Paraty Sneakers</td>\n",
       "      <td>Rs. 6999</td>\n",
       "    </tr>\n",
       "    <tr>\n",
       "      <th>28</th>\n",
       "      <td>FILA</td>\n",
       "      <td>Men Running Shoes</td>\n",
       "      <td>Rs. 8499</td>\n",
       "    </tr>\n",
       "    <tr>\n",
       "      <th>29</th>\n",
       "      <td>UNDER ARMOUR</td>\n",
       "      <td>Women Charged Breathe TR 2</td>\n",
       "      <td>Rs. 7999</td>\n",
       "    </tr>\n",
       "    <tr>\n",
       "      <th>30</th>\n",
       "      <td>Nike</td>\n",
       "      <td>Men JORDAN DELTA Sneakers</td>\n",
       "      <td>Rs. 10995</td>\n",
       "    </tr>\n",
       "    <tr>\n",
       "      <th>31</th>\n",
       "      <td>Saint G</td>\n",
       "      <td>Men Textured Leather Formal Loafers</td>\n",
       "      <td>Rs. 9975Rs. 10500(5% OFF)</td>\n",
       "    </tr>\n",
       "    <tr>\n",
       "      <th>32</th>\n",
       "      <td>UNDER ARMOUR</td>\n",
       "      <td>Men Charged Will Sneakers</td>\n",
       "      <td>Rs. 7224Rs. 8499(15% OFF)</td>\n",
       "    </tr>\n",
       "    <tr>\n",
       "      <th>33</th>\n",
       "      <td>Puma</td>\n",
       "      <td>Women Provoke XT Training</td>\n",
       "      <td>Rs. 7999</td>\n",
       "    </tr>\n",
       "    <tr>\n",
       "      <th>34</th>\n",
       "      <td>UNDER ARMOUR</td>\n",
       "      <td>Women Charged Breathe OIL SLK</td>\n",
       "      <td>Rs. 8999</td>\n",
       "    </tr>\n",
       "    <tr>\n",
       "      <th>35</th>\n",
       "      <td>Skechers</td>\n",
       "      <td>Women D'LITES 3.0 Sneakers</td>\n",
       "      <td>Rs. 6999</td>\n",
       "    </tr>\n",
       "    <tr>\n",
       "      <th>36</th>\n",
       "      <td>Cole Haan</td>\n",
       "      <td>Women Woven Design Sneakers</td>\n",
       "      <td>Rs. 6749Rs. 14999(55% OFF)</td>\n",
       "    </tr>\n",
       "    <tr>\n",
       "      <th>37</th>\n",
       "      <td>Hush Puppies</td>\n",
       "      <td>Men Formal Derbys</td>\n",
       "      <td>Rs. 9999</td>\n",
       "    </tr>\n",
       "    <tr>\n",
       "      <th>38</th>\n",
       "      <td>ASICS</td>\n",
       "      <td>Men Running Shoes</td>\n",
       "      <td>Rs. 6999Rs. 9999(30% OFF)</td>\n",
       "    </tr>\n",
       "    <tr>\n",
       "      <th>39</th>\n",
       "      <td>Ruosh</td>\n",
       "      <td>Men Solid Leather Formal Derbys</td>\n",
       "      <td>Rs. 8990</td>\n",
       "    </tr>\n",
       "    <tr>\n",
       "      <th>40</th>\n",
       "      <td>Puma</td>\n",
       "      <td>Men FUTURE Z 3.1Football Shoes</td>\n",
       "      <td>Rs. 7199Rs. 7999(10% OFF)</td>\n",
       "    </tr>\n",
       "    <tr>\n",
       "      <th>41</th>\n",
       "      <td>Puma</td>\n",
       "      <td>Future Rider Twofold Sneakers</td>\n",
       "      <td>Rs. 6999</td>\n",
       "    </tr>\n",
       "    <tr>\n",
       "      <th>42</th>\n",
       "      <td>Heel &amp; Buckle London</td>\n",
       "      <td>Men Leather Formal Oxfords</td>\n",
       "      <td>Rs. 7693Rs. 10990(30% OFF)</td>\n",
       "    </tr>\n",
       "    <tr>\n",
       "      <th>43</th>\n",
       "      <td>UNDER ARMOUR</td>\n",
       "      <td>Women HOVR Rise 2 Training</td>\n",
       "      <td>Rs. 9999</td>\n",
       "    </tr>\n",
       "    <tr>\n",
       "      <th>44</th>\n",
       "      <td>Puma</td>\n",
       "      <td>Unisex RS-X Pop Sneakers</td>\n",
       "      <td>Rs. 8499Rs. 9999(15% OFF)</td>\n",
       "    </tr>\n",
       "    <tr>\n",
       "      <th>45</th>\n",
       "      <td>UNDER ARMOUR</td>\n",
       "      <td>Women TriBase Reign 2 Training</td>\n",
       "      <td>Rs. 11999</td>\n",
       "    </tr>\n",
       "    <tr>\n",
       "      <th>46</th>\n",
       "      <td>UNDER ARMOUR</td>\n",
       "      <td>HOVR Sonic 3 Running Shoes</td>\n",
       "      <td>Rs. 10999</td>\n",
       "    </tr>\n",
       "    <tr>\n",
       "      <th>47</th>\n",
       "      <td>Bugatti</td>\n",
       "      <td>Women Mules</td>\n",
       "      <td>Rs. 7499</td>\n",
       "    </tr>\n",
       "    <tr>\n",
       "      <th>48</th>\n",
       "      <td>Ruosh</td>\n",
       "      <td>Men Formal Brogues</td>\n",
       "      <td>Rs. 6990</td>\n",
       "    </tr>\n",
       "    <tr>\n",
       "      <th>49</th>\n",
       "      <td>Reebok</td>\n",
       "      <td>Forever Floatride Energy 2</td>\n",
       "      <td>Rs. 9999</td>\n",
       "    </tr>\n",
       "  </tbody>\n",
       "</table>\n",
       "</div>"
      ],
      "text/plain": [
       "                   brand                              ratings  \\\n",
       "0                   Nike            Men JOYRIDE Running Shoes   \n",
       "1                   Nike            Women REACT Running Shoes   \n",
       "2                   Nike       AIR ZOOM PEGASUS Running Shoes   \n",
       "3                   Nike         Men KD13 EP Basketball Shoes   \n",
       "4                   Puma         Women Liberate Nitro Running   \n",
       "5                   Puma          Men UltraRide Running Shoes   \n",
       "6                   ALDO                         Men Sneakers   \n",
       "7                   Nike          Men JORDAN DELTA Basketball   \n",
       "8                   ALDO                Men Textured Sneakers   \n",
       "9                   Nike        Men REACT MILER Running Shoes   \n",
       "10                  Nike           Men AIR ZOOM Running Shoes   \n",
       "11                  Nike       Women PEGASUS 37 Running Shoes   \n",
       "12          UNDER ARMOUR          Men HOVR Strt Walking Shoes   \n",
       "13          UNDER ARMOUR            Men Liquify Running Shoes   \n",
       "14          UNDER ARMOUR           HOVR Sonic 3 Running Shoes   \n",
       "15                  Puma        Men SPEED 500 2 Running Shoes   \n",
       "16                  Nike          Women AIR MAX VIVA Sneakers   \n",
       "17          UNDER ARMOUR        Charged Rogue 2 Wide 2E Shoes   \n",
       "18               Saint G            Men Leather Chelsea Boots   \n",
       "19                 ASICS               Men Black Sports Shoes   \n",
       "20          UNDER ARMOUR        Charged Impulse Running Shoes   \n",
       "21          Hush Puppies    Men Solid Leather Formal Slip-Ons   \n",
       "22                  Puma         Women Eternity Nitro Running   \n",
       "23          UNDER ARMOUR        HOVR Infinite 2 Running Shoes   \n",
       "24                  Puma           Men Velocity Nitro Running   \n",
       "25          UNDER ARMOUR              Men HOVR Guardian Shoes   \n",
       "26          UNDER ARMOUR          Women Liquify Rebel Running   \n",
       "27        Onitsuka Tiger     Unisex Mexico 66 Paraty Sneakers   \n",
       "28                  FILA                    Men Running Shoes   \n",
       "29          UNDER ARMOUR           Women Charged Breathe TR 2   \n",
       "30                  Nike            Men JORDAN DELTA Sneakers   \n",
       "31               Saint G  Men Textured Leather Formal Loafers   \n",
       "32          UNDER ARMOUR            Men Charged Will Sneakers   \n",
       "33                  Puma            Women Provoke XT Training   \n",
       "34          UNDER ARMOUR        Women Charged Breathe OIL SLK   \n",
       "35              Skechers           Women D'LITES 3.0 Sneakers   \n",
       "36             Cole Haan          Women Woven Design Sneakers   \n",
       "37          Hush Puppies                    Men Formal Derbys   \n",
       "38                 ASICS                    Men Running Shoes   \n",
       "39                 Ruosh      Men Solid Leather Formal Derbys   \n",
       "40                  Puma       Men FUTURE Z 3.1Football Shoes   \n",
       "41                  Puma        Future Rider Twofold Sneakers   \n",
       "42  Heel & Buckle London           Men Leather Formal Oxfords   \n",
       "43          UNDER ARMOUR           Women HOVR Rise 2 Training   \n",
       "44                  Puma             Unisex RS-X Pop Sneakers   \n",
       "45          UNDER ARMOUR       Women TriBase Reign 2 Training   \n",
       "46          UNDER ARMOUR           HOVR Sonic 3 Running Shoes   \n",
       "47               Bugatti                          Women Mules   \n",
       "48                 Ruosh                   Men Formal Brogues   \n",
       "49                Reebok           Forever Floatride Energy 2   \n",
       "\n",
       "                          price  \n",
       "0   Rs. 11246Rs. 14995(25% OFF)  \n",
       "1    Rs. 8396Rs. 11995(30% OFF)  \n",
       "2                     Rs. 11495  \n",
       "3                     Rs. 12995  \n",
       "4     Rs. 7999Rs. 9999(20% OFF)  \n",
       "5     Rs. 7649Rs. 8999(15% OFF)  \n",
       "6                      Rs. 9999  \n",
       "7                     Rs. 12495  \n",
       "8     Rs. 7199Rs. 8999(20% OFF)  \n",
       "9    Rs. 8796Rs. 10995(20% OFF)  \n",
       "10   Rs. 7721Rs. 10295(25% OFF)  \n",
       "11    Rs. 7496Rs. 9995(25% OFF)  \n",
       "12                     Rs. 9999  \n",
       "13                    Rs. 10999  \n",
       "14                    Rs. 10999  \n",
       "15    Rs. 6999Rs. 9999(30% OFF)  \n",
       "16                    Rs. 12495  \n",
       "17                     Rs. 7999  \n",
       "18   Rs. 11305Rs. 11900(5% OFF)  \n",
       "19    Rs. 6999Rs. 9999(30% OFF)  \n",
       "20                     Rs. 7999  \n",
       "21                     Rs. 8999  \n",
       "22                    Rs. 12999  \n",
       "23                    Rs. 11999  \n",
       "24                    Rs. 10999  \n",
       "25  Rs. 10199Rs. 11999(15% OFF)  \n",
       "26                     Rs. 8999  \n",
       "27                     Rs. 6999  \n",
       "28                     Rs. 8499  \n",
       "29                     Rs. 7999  \n",
       "30                    Rs. 10995  \n",
       "31    Rs. 9975Rs. 10500(5% OFF)  \n",
       "32    Rs. 7224Rs. 8499(15% OFF)  \n",
       "33                     Rs. 7999  \n",
       "34                     Rs. 8999  \n",
       "35                     Rs. 6999  \n",
       "36   Rs. 6749Rs. 14999(55% OFF)  \n",
       "37                     Rs. 9999  \n",
       "38    Rs. 6999Rs. 9999(30% OFF)  \n",
       "39                     Rs. 8990  \n",
       "40    Rs. 7199Rs. 7999(10% OFF)  \n",
       "41                     Rs. 6999  \n",
       "42   Rs. 7693Rs. 10990(30% OFF)  \n",
       "43                     Rs. 9999  \n",
       "44    Rs. 8499Rs. 9999(15% OFF)  \n",
       "45                    Rs. 11999  \n",
       "46                    Rs. 10999  \n",
       "47                     Rs. 7499  \n",
       "48                     Rs. 6990  \n",
       "49                     Rs. 9999  "
      ]
     },
     "execution_count": 135,
     "metadata": {},
     "output_type": "execute_result"
    }
   ],
   "source": [
    "products"
   ]
  },
  {
   "cell_type": "code",
   "execution_count": null,
   "metadata": {},
   "outputs": [],
   "source": []
  },
  {
   "cell_type": "markdown",
   "metadata": {},
   "source": [
    "# Question 10: \n",
    "    Go to webpage https://www.amazon.in/ Enter “Laptop” in the search field and then click the search icon.Then set CPU Type filter to “Intel Core i7” and “Intel Core i9” as shown in the below image:"
   ]
  },
  {
   "cell_type": "code",
   "execution_count": 91,
   "metadata": {},
   "outputs": [],
   "source": [
    "#connect to webdriver\n",
    "driver = webdriver.Chrome(r\"C:\\Users\\Neha Vishnudas Pai\\Downloads\\chromedriver.exe\")"
   ]
  },
  {
   "cell_type": "code",
   "execution_count": 92,
   "metadata": {},
   "outputs": [],
   "source": [
    "url = 'https://www.amazon.in/'\n",
    "driver.get(url)\n",
    "time.sleep(5)"
   ]
  },
  {
   "cell_type": "code",
   "execution_count": 93,
   "metadata": {
    "scrolled": true
   },
   "outputs": [
    {
     "data": {
      "text/plain": [
       "<selenium.webdriver.remote.webelement.WebElement (session=\"84335027f01134c7cb5a7ae39c8b5a08\", element=\"658cf5cf-b09d-420e-88a1-24e6c5ecc7be\")>"
      ]
     },
     "execution_count": 93,
     "metadata": {},
     "output_type": "execute_result"
    }
   ],
   "source": [
    "#finding element for job search bar\n",
    "search_bar = driver.find_element_by_xpath(\"//input[@class='nav-input nav-progressive-attribute']\")\n",
    "search_bar"
   ]
  },
  {
   "cell_type": "code",
   "execution_count": 94,
   "metadata": {
    "scrolled": true
   },
   "outputs": [],
   "source": [
    "#write on search bar\n",
    "search_bar.send_keys(\"Laptop\")"
   ]
  },
  {
   "cell_type": "code",
   "execution_count": 95,
   "metadata": {
    "scrolled": true
   },
   "outputs": [],
   "source": [
    "#do click using xpath function\n",
    "search_btn= driver.find_elements_by_xpath(\"//input[@class='nav-input nav-progressive-attribute']\")[1]\n",
    "search_btn.click()\n",
    "time.sleep(10)"
   ]
  },
  {
   "cell_type": "code",
   "execution_count": 96,
   "metadata": {},
   "outputs": [],
   "source": [
    "checkboxes = driver.find_elements_by_xpath(\"//span[@class='a-size-base a-color-base']\")[19:20]\n",
    "for checkbox in checkboxes:\n",
    "    checkbox.click()"
   ]
  },
  {
   "cell_type": "code",
   "execution_count": 97,
   "metadata": {},
   "outputs": [],
   "source": [
    "#extract data from webpage- titles\n",
    "titles_tags=driver.find_elements_by_xpath(\"//h2[@class='a-size-mini a-spacing-none a-color-base s-line-clamp-2']\")"
   ]
  },
  {
   "cell_type": "code",
   "execution_count": 98,
   "metadata": {},
   "outputs": [
    {
     "data": {
      "text/plain": [
       "['Lenovo Ideapad S145 Intel Core i3 10th Gen 15.6” FHD Thin and Light (8GB/1TBHDD/Win10/Intel UHD Graphics/Platinum Grey/1.85kg), 81W800TJIN',\n",
       " 'Lenovo Ideapad Slim 3 10th Gen Intel Core i3 15.6 inch (39.62 cms) Full HD Thin and Light Laptop (4GB/1TB HDD/Windows 10/MS Office 2019/Platinum Grey/1.85Kg), 81WE00RCIN',\n",
       " 'Lenovo IdeaPad S145 10th Gen Intel Core i3 15.6 inch (39.62 cms) Full HD Thin and Light Laptop (8GB/1TB HDD/Windows 10/MS Office 2019/Platinum Grey/1.85Kg), 81W800DHIN',\n",
       " 'HP 15 (2021) Thin & Light 11th Gen Core i3 Laptop, 8 GB RAM, 1TB HDD, 15.6-inch (39.62 cms) FHD Screen, Windows 10, MS Office',\n",
       " 'Lenovo Ideapad S145 i3 10th Gen 15.6” FHD Thin & Light Laptop(8GB/1TBHDD/Win10/UHD Graphics/Grey/1.85kg), 81W800TJIN + Lenovo 15.6 inch Slim Everyday Backpack + Lenovo 300 Wired USB Mouse GX30M39704',\n",
       " 'Lenovo Ideapad S145 7th Gen Intel Core i3 15.6” Thin and Light Laptop (4GB/1TB HDD/Win10 + Office Home/Intel UHD Graphics/Platinum Grey/1.85kg), 81VD00EQIN',\n",
       " 'HP 14(2021) 10th Gen Intel Core i3 Laptop with Alexa Built-in, 8GB RAM, 256GB SSD, 14-Inch(35.6 cm) FHD Screen, Windows 10, MS Office, (14s- dy2501tu)',\n",
       " 'Dell Vostro 3401 14\" FHD Display Laptop (11th Gen i3-1115G4 / 8GB / 1TB HDD / Integrated Graphics / Win 10 + MSO / Accent Black) D552175WIN9BE',\n",
       " 'HP 14 (2021) Thin & Light 11th Gen Intel Core i3 Laptop with Alexa Built-in, 8GB RAM, 512GB SSD, 14-inch FHD Screen, Windows 10, MS Office (14s-dr2015TU)',\n",
       " 'Dell Inspiron 3501 15.6\" (39.62 cms) FHD AG Display Laptop (i3-1005G1 / 8GB / 1TB / Integrated Graphics / Win 10 + MSO / Softmint) D560421WIN9S']"
      ]
     },
     "execution_count": 98,
     "metadata": {},
     "output_type": "execute_result"
    }
   ],
   "source": [
    "prod_titles =[]\n",
    "for i in titles_tags[:10]:\n",
    "    prod_titles.append(i.text)\n",
    "prod_titles"
   ]
  },
  {
   "cell_type": "code",
   "execution_count": 115,
   "metadata": {},
   "outputs": [],
   "source": [
    "#extract data from webpage- rating\n",
    "ratings=driver.find_elements_by_xpath(\"//a[@class='a-popover-trigger a-declarative']//span\")"
   ]
  },
  {
   "cell_type": "code",
   "execution_count": 116,
   "metadata": {},
   "outputs": [
    {
     "data": {
      "text/plain": [
       "['', '', '', '', '', '', '', '', '', '']"
      ]
     },
     "execution_count": 116,
     "metadata": {},
     "output_type": "execute_result"
    }
   ],
   "source": [
    "prod_ratings =[]\n",
    "for i in ratings[:10]:\n",
    "    prod_ratings.append(i.text)\n",
    "prod_ratings"
   ]
  },
  {
   "cell_type": "code",
   "execution_count": 101,
   "metadata": {},
   "outputs": [],
   "source": [
    "#extract data from webpage- titles\n",
    "price=driver.find_elements_by_xpath(\"//span[@class='a-price-whole']\")"
   ]
  },
  {
   "cell_type": "code",
   "execution_count": 102,
   "metadata": {},
   "outputs": [
    {
     "data": {
      "text/plain": [
       "['33,990',\n",
       " '33,990',\n",
       " '35,990',\n",
       " '37,990',\n",
       " '35,028',\n",
       " '32,480',\n",
       " '41,999',\n",
       " '39,590',\n",
       " '45,990',\n",
       " '38,890']"
      ]
     },
     "execution_count": 102,
     "metadata": {},
     "output_type": "execute_result"
    }
   ],
   "source": [
    "prod_price =[]\n",
    "for i in price[:10]:\n",
    "    prod_price.append(i.text)\n",
    "prod_price"
   ]
  },
  {
   "cell_type": "code",
   "execution_count": 118,
   "metadata": {},
   "outputs": [
    {
     "name": "stdout",
     "output_type": "stream",
     "text": [
      "10 10 10\n"
     ]
    }
   ],
   "source": [
    "print(len(prod_titles), len(prod_ratings), len(prod_price))"
   ]
  },
  {
   "cell_type": "code",
   "execution_count": 119,
   "metadata": {},
   "outputs": [],
   "source": [
    "import pandas as pd\n",
    "\n",
    "products=pd.DataFrame({})\n",
    "products['title']=prod_titles\n",
    "products['ratings']=prod_ratings\n",
    "products['price']=prod_price"
   ]
  },
  {
   "cell_type": "code",
   "execution_count": 120,
   "metadata": {},
   "outputs": [
    {
     "data": {
      "text/html": [
       "<div>\n",
       "<style scoped>\n",
       "    .dataframe tbody tr th:only-of-type {\n",
       "        vertical-align: middle;\n",
       "    }\n",
       "\n",
       "    .dataframe tbody tr th {\n",
       "        vertical-align: top;\n",
       "    }\n",
       "\n",
       "    .dataframe thead th {\n",
       "        text-align: right;\n",
       "    }\n",
       "</style>\n",
       "<table border=\"1\" class=\"dataframe\">\n",
       "  <thead>\n",
       "    <tr style=\"text-align: right;\">\n",
       "      <th></th>\n",
       "      <th>title</th>\n",
       "      <th>ratings</th>\n",
       "      <th>price</th>\n",
       "    </tr>\n",
       "  </thead>\n",
       "  <tbody>\n",
       "    <tr>\n",
       "      <th>0</th>\n",
       "      <td>Lenovo Ideapad S145 Intel Core i3 10th Gen 15....</td>\n",
       "      <td></td>\n",
       "      <td>33,990</td>\n",
       "    </tr>\n",
       "    <tr>\n",
       "      <th>1</th>\n",
       "      <td>Lenovo Ideapad Slim 3 10th Gen Intel Core i3 1...</td>\n",
       "      <td></td>\n",
       "      <td>33,990</td>\n",
       "    </tr>\n",
       "    <tr>\n",
       "      <th>2</th>\n",
       "      <td>Lenovo IdeaPad S145 10th Gen Intel Core i3 15....</td>\n",
       "      <td></td>\n",
       "      <td>35,990</td>\n",
       "    </tr>\n",
       "    <tr>\n",
       "      <th>3</th>\n",
       "      <td>HP 15 (2021) Thin &amp; Light 11th Gen Core i3 Lap...</td>\n",
       "      <td></td>\n",
       "      <td>37,990</td>\n",
       "    </tr>\n",
       "    <tr>\n",
       "      <th>4</th>\n",
       "      <td>Lenovo Ideapad S145 i3 10th Gen 15.6” FHD Thin...</td>\n",
       "      <td></td>\n",
       "      <td>35,028</td>\n",
       "    </tr>\n",
       "    <tr>\n",
       "      <th>5</th>\n",
       "      <td>Lenovo Ideapad S145 7th Gen Intel Core i3 15.6...</td>\n",
       "      <td></td>\n",
       "      <td>32,480</td>\n",
       "    </tr>\n",
       "    <tr>\n",
       "      <th>6</th>\n",
       "      <td>HP 14(2021) 10th Gen Intel Core i3 Laptop with...</td>\n",
       "      <td></td>\n",
       "      <td>41,999</td>\n",
       "    </tr>\n",
       "    <tr>\n",
       "      <th>7</th>\n",
       "      <td>Dell Vostro 3401 14\" FHD Display Laptop (11th ...</td>\n",
       "      <td></td>\n",
       "      <td>39,590</td>\n",
       "    </tr>\n",
       "    <tr>\n",
       "      <th>8</th>\n",
       "      <td>HP 14 (2021) Thin &amp; Light 11th Gen Intel Core ...</td>\n",
       "      <td></td>\n",
       "      <td>45,990</td>\n",
       "    </tr>\n",
       "    <tr>\n",
       "      <th>9</th>\n",
       "      <td>Dell Inspiron 3501 15.6\" (39.62 cms) FHD AG Di...</td>\n",
       "      <td></td>\n",
       "      <td>38,890</td>\n",
       "    </tr>\n",
       "  </tbody>\n",
       "</table>\n",
       "</div>"
      ],
      "text/plain": [
       "                                               title ratings   price\n",
       "0  Lenovo Ideapad S145 Intel Core i3 10th Gen 15....          33,990\n",
       "1  Lenovo Ideapad Slim 3 10th Gen Intel Core i3 1...          33,990\n",
       "2  Lenovo IdeaPad S145 10th Gen Intel Core i3 15....          35,990\n",
       "3  HP 15 (2021) Thin & Light 11th Gen Core i3 Lap...          37,990\n",
       "4  Lenovo Ideapad S145 i3 10th Gen 15.6” FHD Thin...          35,028\n",
       "5  Lenovo Ideapad S145 7th Gen Intel Core i3 15.6...          32,480\n",
       "6  HP 14(2021) 10th Gen Intel Core i3 Laptop with...          41,999\n",
       "7  Dell Vostro 3401 14\" FHD Display Laptop (11th ...          39,590\n",
       "8  HP 14 (2021) Thin & Light 11th Gen Intel Core ...          45,990\n",
       "9  Dell Inspiron 3501 15.6\" (39.62 cms) FHD AG Di...          38,890"
      ]
     },
     "execution_count": 120,
     "metadata": {},
     "output_type": "execute_result"
    }
   ],
   "source": [
    "products"
   ]
  },
  {
   "cell_type": "code",
   "execution_count": null,
   "metadata": {
    "scrolled": true
   },
   "outputs": [],
   "source": []
  }
 ],
 "metadata": {
  "kernelspec": {
   "display_name": "Python 3",
   "language": "python",
   "name": "python3"
  },
  "language_info": {
   "codemirror_mode": {
    "name": "ipython",
    "version": 3
   },
   "file_extension": ".py",
   "mimetype": "text/x-python",
   "name": "python",
   "nbconvert_exporter": "python",
   "pygments_lexer": "ipython3",
   "version": "3.8.3"
  }
 },
 "nbformat": 4,
 "nbformat_minor": 4
}
